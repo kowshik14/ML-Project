{
  "nbformat": 4,
  "nbformat_minor": 0,
  "metadata": {
    "colab": {
      "provenance": []
    },
    "kernelspec": {
      "name": "python3",
      "display_name": "Python 3"
    },
    "language_info": {
      "name": "python"
    }
  },
  "cells": [
    {
      "cell_type": "code",
      "execution_count": null,
      "metadata": {
        "id": "EzdcMKZ65aJ-"
      },
      "outputs": [],
      "source": [
        "!pip install yfinance"
      ]
    },
    {
      "cell_type": "code",
      "source": [
        "import numpy as np\n",
        "import pandas as pd\n",
        "import matplotlib.pyplot as plt\n",
        "import pandas_datareader as data\n",
        "from sklearn.preprocessing import MinMaxScaler, StandardScaler\n",
        "import warnings\n",
        "import yfinance as yf\n",
        "import seaborn as sb\n",
        "warnings.filterwarnings('ignore')\n",
        "from tensorflow.keras.models import Sequential\n",
        "from tensorflow.keras.layers import Dense, BatchNormalization, SpatialDropout1D, Embedding, LSTM, GRU, Bidirectional, Dropout, Convolution1D\n",
        "from tensorflow.keras.callbacks import ModelCheckpoint, EarlyStopping, ReduceLROnPlateau, CSVLogger\n",
        "from tensorflow.keras.layers import Dense, Dropout, Activation, Embedding, MaxPooling1D"
      ],
      "metadata": {
        "id": "J0AtjwXX5hTV"
      },
      "execution_count": null,
      "outputs": []
    },
    {
      "cell_type": "code",
      "source": [
        "import datetime\n",
        "start= '2010-01-01'\n",
        "end= '2019-12-31'\n",
        "dataset=yf.download('AAPL',start,end)\n",
        "#dataset=data.DataReader('TSLA', 'yahoo', start, datetime.date.today())\n",
        "dataset.head()"
      ],
      "metadata": {
        "id": "JaBOhwtB5vJ2",
        "colab": {
          "base_uri": "https://localhost:8080/",
          "height": 255
        },
        "outputId": "89ee0c37-abd8-423f-dc2a-fe6416dd7f42"
      },
      "execution_count": null,
      "outputs": [
        {
          "output_type": "stream",
          "name": "stdout",
          "text": [
            "\r[*********************100%***********************]  1 of 1 completed\n"
          ]
        },
        {
          "output_type": "execute_result",
          "data": {
            "text/plain": [
              "                Open      High       Low     Close  Adj Close     Volume\n",
              "Date                                                                    \n",
              "2010-01-04  7.622500  7.660714  7.585000  7.643214   6.505280  493729600\n",
              "2010-01-05  7.664286  7.699643  7.616071  7.656429   6.516526  601904800\n",
              "2010-01-06  7.656429  7.686786  7.526786  7.534643   6.412872  552160000\n",
              "2010-01-07  7.562500  7.571429  7.466071  7.520714   6.401017  477131200\n",
              "2010-01-08  7.510714  7.571429  7.466429  7.570714   6.443573  447610800"
            ],
            "text/html": [
              "\n",
              "  <div id=\"df-ebe60755-7837-47c8-a116-f8c67292a83a\">\n",
              "    <div class=\"colab-df-container\">\n",
              "      <div>\n",
              "<style scoped>\n",
              "    .dataframe tbody tr th:only-of-type {\n",
              "        vertical-align: middle;\n",
              "    }\n",
              "\n",
              "    .dataframe tbody tr th {\n",
              "        vertical-align: top;\n",
              "    }\n",
              "\n",
              "    .dataframe thead th {\n",
              "        text-align: right;\n",
              "    }\n",
              "</style>\n",
              "<table border=\"1\" class=\"dataframe\">\n",
              "  <thead>\n",
              "    <tr style=\"text-align: right;\">\n",
              "      <th></th>\n",
              "      <th>Open</th>\n",
              "      <th>High</th>\n",
              "      <th>Low</th>\n",
              "      <th>Close</th>\n",
              "      <th>Adj Close</th>\n",
              "      <th>Volume</th>\n",
              "    </tr>\n",
              "    <tr>\n",
              "      <th>Date</th>\n",
              "      <th></th>\n",
              "      <th></th>\n",
              "      <th></th>\n",
              "      <th></th>\n",
              "      <th></th>\n",
              "      <th></th>\n",
              "    </tr>\n",
              "  </thead>\n",
              "  <tbody>\n",
              "    <tr>\n",
              "      <th>2010-01-04</th>\n",
              "      <td>7.622500</td>\n",
              "      <td>7.660714</td>\n",
              "      <td>7.585000</td>\n",
              "      <td>7.643214</td>\n",
              "      <td>6.505280</td>\n",
              "      <td>493729600</td>\n",
              "    </tr>\n",
              "    <tr>\n",
              "      <th>2010-01-05</th>\n",
              "      <td>7.664286</td>\n",
              "      <td>7.699643</td>\n",
              "      <td>7.616071</td>\n",
              "      <td>7.656429</td>\n",
              "      <td>6.516526</td>\n",
              "      <td>601904800</td>\n",
              "    </tr>\n",
              "    <tr>\n",
              "      <th>2010-01-06</th>\n",
              "      <td>7.656429</td>\n",
              "      <td>7.686786</td>\n",
              "      <td>7.526786</td>\n",
              "      <td>7.534643</td>\n",
              "      <td>6.412872</td>\n",
              "      <td>552160000</td>\n",
              "    </tr>\n",
              "    <tr>\n",
              "      <th>2010-01-07</th>\n",
              "      <td>7.562500</td>\n",
              "      <td>7.571429</td>\n",
              "      <td>7.466071</td>\n",
              "      <td>7.520714</td>\n",
              "      <td>6.401017</td>\n",
              "      <td>477131200</td>\n",
              "    </tr>\n",
              "    <tr>\n",
              "      <th>2010-01-08</th>\n",
              "      <td>7.510714</td>\n",
              "      <td>7.571429</td>\n",
              "      <td>7.466429</td>\n",
              "      <td>7.570714</td>\n",
              "      <td>6.443573</td>\n",
              "      <td>447610800</td>\n",
              "    </tr>\n",
              "  </tbody>\n",
              "</table>\n",
              "</div>\n",
              "      <button class=\"colab-df-convert\" onclick=\"convertToInteractive('df-ebe60755-7837-47c8-a116-f8c67292a83a')\"\n",
              "              title=\"Convert this dataframe to an interactive table.\"\n",
              "              style=\"display:none;\">\n",
              "        \n",
              "  <svg xmlns=\"http://www.w3.org/2000/svg\" height=\"24px\"viewBox=\"0 0 24 24\"\n",
              "       width=\"24px\">\n",
              "    <path d=\"M0 0h24v24H0V0z\" fill=\"none\"/>\n",
              "    <path d=\"M18.56 5.44l.94 2.06.94-2.06 2.06-.94-2.06-.94-.94-2.06-.94 2.06-2.06.94zm-11 1L8.5 8.5l.94-2.06 2.06-.94-2.06-.94L8.5 2.5l-.94 2.06-2.06.94zm10 10l.94 2.06.94-2.06 2.06-.94-2.06-.94-.94-2.06-.94 2.06-2.06.94z\"/><path d=\"M17.41 7.96l-1.37-1.37c-.4-.4-.92-.59-1.43-.59-.52 0-1.04.2-1.43.59L10.3 9.45l-7.72 7.72c-.78.78-.78 2.05 0 2.83L4 21.41c.39.39.9.59 1.41.59.51 0 1.02-.2 1.41-.59l7.78-7.78 2.81-2.81c.8-.78.8-2.07 0-2.86zM5.41 20L4 18.59l7.72-7.72 1.47 1.35L5.41 20z\"/>\n",
              "  </svg>\n",
              "      </button>\n",
              "      \n",
              "  <style>\n",
              "    .colab-df-container {\n",
              "      display:flex;\n",
              "      flex-wrap:wrap;\n",
              "      gap: 12px;\n",
              "    }\n",
              "\n",
              "    .colab-df-convert {\n",
              "      background-color: #E8F0FE;\n",
              "      border: none;\n",
              "      border-radius: 50%;\n",
              "      cursor: pointer;\n",
              "      display: none;\n",
              "      fill: #1967D2;\n",
              "      height: 32px;\n",
              "      padding: 0 0 0 0;\n",
              "      width: 32px;\n",
              "    }\n",
              "\n",
              "    .colab-df-convert:hover {\n",
              "      background-color: #E2EBFA;\n",
              "      box-shadow: 0px 1px 2px rgba(60, 64, 67, 0.3), 0px 1px 3px 1px rgba(60, 64, 67, 0.15);\n",
              "      fill: #174EA6;\n",
              "    }\n",
              "\n",
              "    [theme=dark] .colab-df-convert {\n",
              "      background-color: #3B4455;\n",
              "      fill: #D2E3FC;\n",
              "    }\n",
              "\n",
              "    [theme=dark] .colab-df-convert:hover {\n",
              "      background-color: #434B5C;\n",
              "      box-shadow: 0px 1px 3px 1px rgba(0, 0, 0, 0.15);\n",
              "      filter: drop-shadow(0px 1px 2px rgba(0, 0, 0, 0.3));\n",
              "      fill: #FFFFFF;\n",
              "    }\n",
              "  </style>\n",
              "\n",
              "      <script>\n",
              "        const buttonEl =\n",
              "          document.querySelector('#df-ebe60755-7837-47c8-a116-f8c67292a83a button.colab-df-convert');\n",
              "        buttonEl.style.display =\n",
              "          google.colab.kernel.accessAllowed ? 'block' : 'none';\n",
              "\n",
              "        async function convertToInteractive(key) {\n",
              "          const element = document.querySelector('#df-ebe60755-7837-47c8-a116-f8c67292a83a');\n",
              "          const dataTable =\n",
              "            await google.colab.kernel.invokeFunction('convertToInteractive',\n",
              "                                                     [key], {});\n",
              "          if (!dataTable) return;\n",
              "\n",
              "          const docLinkHtml = 'Like what you see? Visit the ' +\n",
              "            '<a target=\"_blank\" href=https://colab.research.google.com/notebooks/data_table.ipynb>data table notebook</a>'\n",
              "            + ' to learn more about interactive tables.';\n",
              "          element.innerHTML = '';\n",
              "          dataTable['output_type'] = 'display_data';\n",
              "          await google.colab.output.renderOutput(dataTable, element);\n",
              "          const docLink = document.createElement('div');\n",
              "          docLink.innerHTML = docLinkHtml;\n",
              "          element.appendChild(docLink);\n",
              "        }\n",
              "      </script>\n",
              "    </div>\n",
              "  </div>\n",
              "  "
            ]
          },
          "metadata": {},
          "execution_count": 11
        }
      ]
    },
    {
      "cell_type": "code",
      "source": [
        "dataset=dataset.reset_index()\n",
        "dataset"
      ],
      "metadata": {
        "id": "4QHxfjqM5yu1",
        "colab": {
          "base_uri": "https://localhost:8080/",
          "height": 424
        },
        "outputId": "06edcec6-dde4-4e08-f12f-a388cd0de96b"
      },
      "execution_count": null,
      "outputs": [
        {
          "output_type": "execute_result",
          "data": {
            "text/plain": [
              "           Date       Open       High        Low      Close  Adj Close  \\\n",
              "0    2010-01-04   7.622500   7.660714   7.585000   7.643214   6.505280   \n",
              "1    2010-01-05   7.664286   7.699643   7.616071   7.656429   6.516526   \n",
              "2    2010-01-06   7.656429   7.686786   7.526786   7.534643   6.412872   \n",
              "3    2010-01-07   7.562500   7.571429   7.466071   7.520714   6.401017   \n",
              "4    2010-01-08   7.510714   7.571429   7.466429   7.570714   6.443573   \n",
              "...         ...        ...        ...        ...        ...        ...   \n",
              "2510 2019-12-23  70.132500  71.062500  70.092499  71.000000  69.451065   \n",
              "2511 2019-12-24  71.172501  71.222504  70.730003  71.067497  69.517105   \n",
              "2512 2019-12-26  71.205002  72.495003  71.175003  72.477501  70.896324   \n",
              "2513 2019-12-27  72.779999  73.492500  72.029999  72.449997  70.869415   \n",
              "2514 2019-12-30  72.364998  73.172501  71.305000  72.879997  71.290039   \n",
              "\n",
              "         Volume  \n",
              "0     493729600  \n",
              "1     601904800  \n",
              "2     552160000  \n",
              "3     477131200  \n",
              "4     447610800  \n",
              "...         ...  \n",
              "2510   98572000  \n",
              "2511   48478800  \n",
              "2512   93121200  \n",
              "2513  146266000  \n",
              "2514  144114400  \n",
              "\n",
              "[2515 rows x 7 columns]"
            ],
            "text/html": [
              "\n",
              "  <div id=\"df-56e9731d-9ca7-475d-b6bd-5933908c720d\">\n",
              "    <div class=\"colab-df-container\">\n",
              "      <div>\n",
              "<style scoped>\n",
              "    .dataframe tbody tr th:only-of-type {\n",
              "        vertical-align: middle;\n",
              "    }\n",
              "\n",
              "    .dataframe tbody tr th {\n",
              "        vertical-align: top;\n",
              "    }\n",
              "\n",
              "    .dataframe thead th {\n",
              "        text-align: right;\n",
              "    }\n",
              "</style>\n",
              "<table border=\"1\" class=\"dataframe\">\n",
              "  <thead>\n",
              "    <tr style=\"text-align: right;\">\n",
              "      <th></th>\n",
              "      <th>Date</th>\n",
              "      <th>Open</th>\n",
              "      <th>High</th>\n",
              "      <th>Low</th>\n",
              "      <th>Close</th>\n",
              "      <th>Adj Close</th>\n",
              "      <th>Volume</th>\n",
              "    </tr>\n",
              "  </thead>\n",
              "  <tbody>\n",
              "    <tr>\n",
              "      <th>0</th>\n",
              "      <td>2010-01-04</td>\n",
              "      <td>7.622500</td>\n",
              "      <td>7.660714</td>\n",
              "      <td>7.585000</td>\n",
              "      <td>7.643214</td>\n",
              "      <td>6.505280</td>\n",
              "      <td>493729600</td>\n",
              "    </tr>\n",
              "    <tr>\n",
              "      <th>1</th>\n",
              "      <td>2010-01-05</td>\n",
              "      <td>7.664286</td>\n",
              "      <td>7.699643</td>\n",
              "      <td>7.616071</td>\n",
              "      <td>7.656429</td>\n",
              "      <td>6.516526</td>\n",
              "      <td>601904800</td>\n",
              "    </tr>\n",
              "    <tr>\n",
              "      <th>2</th>\n",
              "      <td>2010-01-06</td>\n",
              "      <td>7.656429</td>\n",
              "      <td>7.686786</td>\n",
              "      <td>7.526786</td>\n",
              "      <td>7.534643</td>\n",
              "      <td>6.412872</td>\n",
              "      <td>552160000</td>\n",
              "    </tr>\n",
              "    <tr>\n",
              "      <th>3</th>\n",
              "      <td>2010-01-07</td>\n",
              "      <td>7.562500</td>\n",
              "      <td>7.571429</td>\n",
              "      <td>7.466071</td>\n",
              "      <td>7.520714</td>\n",
              "      <td>6.401017</td>\n",
              "      <td>477131200</td>\n",
              "    </tr>\n",
              "    <tr>\n",
              "      <th>4</th>\n",
              "      <td>2010-01-08</td>\n",
              "      <td>7.510714</td>\n",
              "      <td>7.571429</td>\n",
              "      <td>7.466429</td>\n",
              "      <td>7.570714</td>\n",
              "      <td>6.443573</td>\n",
              "      <td>447610800</td>\n",
              "    </tr>\n",
              "    <tr>\n",
              "      <th>...</th>\n",
              "      <td>...</td>\n",
              "      <td>...</td>\n",
              "      <td>...</td>\n",
              "      <td>...</td>\n",
              "      <td>...</td>\n",
              "      <td>...</td>\n",
              "      <td>...</td>\n",
              "    </tr>\n",
              "    <tr>\n",
              "      <th>2510</th>\n",
              "      <td>2019-12-23</td>\n",
              "      <td>70.132500</td>\n",
              "      <td>71.062500</td>\n",
              "      <td>70.092499</td>\n",
              "      <td>71.000000</td>\n",
              "      <td>69.451065</td>\n",
              "      <td>98572000</td>\n",
              "    </tr>\n",
              "    <tr>\n",
              "      <th>2511</th>\n",
              "      <td>2019-12-24</td>\n",
              "      <td>71.172501</td>\n",
              "      <td>71.222504</td>\n",
              "      <td>70.730003</td>\n",
              "      <td>71.067497</td>\n",
              "      <td>69.517105</td>\n",
              "      <td>48478800</td>\n",
              "    </tr>\n",
              "    <tr>\n",
              "      <th>2512</th>\n",
              "      <td>2019-12-26</td>\n",
              "      <td>71.205002</td>\n",
              "      <td>72.495003</td>\n",
              "      <td>71.175003</td>\n",
              "      <td>72.477501</td>\n",
              "      <td>70.896324</td>\n",
              "      <td>93121200</td>\n",
              "    </tr>\n",
              "    <tr>\n",
              "      <th>2513</th>\n",
              "      <td>2019-12-27</td>\n",
              "      <td>72.779999</td>\n",
              "      <td>73.492500</td>\n",
              "      <td>72.029999</td>\n",
              "      <td>72.449997</td>\n",
              "      <td>70.869415</td>\n",
              "      <td>146266000</td>\n",
              "    </tr>\n",
              "    <tr>\n",
              "      <th>2514</th>\n",
              "      <td>2019-12-30</td>\n",
              "      <td>72.364998</td>\n",
              "      <td>73.172501</td>\n",
              "      <td>71.305000</td>\n",
              "      <td>72.879997</td>\n",
              "      <td>71.290039</td>\n",
              "      <td>144114400</td>\n",
              "    </tr>\n",
              "  </tbody>\n",
              "</table>\n",
              "<p>2515 rows × 7 columns</p>\n",
              "</div>\n",
              "      <button class=\"colab-df-convert\" onclick=\"convertToInteractive('df-56e9731d-9ca7-475d-b6bd-5933908c720d')\"\n",
              "              title=\"Convert this dataframe to an interactive table.\"\n",
              "              style=\"display:none;\">\n",
              "        \n",
              "  <svg xmlns=\"http://www.w3.org/2000/svg\" height=\"24px\"viewBox=\"0 0 24 24\"\n",
              "       width=\"24px\">\n",
              "    <path d=\"M0 0h24v24H0V0z\" fill=\"none\"/>\n",
              "    <path d=\"M18.56 5.44l.94 2.06.94-2.06 2.06-.94-2.06-.94-.94-2.06-.94 2.06-2.06.94zm-11 1L8.5 8.5l.94-2.06 2.06-.94-2.06-.94L8.5 2.5l-.94 2.06-2.06.94zm10 10l.94 2.06.94-2.06 2.06-.94-2.06-.94-.94-2.06-.94 2.06-2.06.94z\"/><path d=\"M17.41 7.96l-1.37-1.37c-.4-.4-.92-.59-1.43-.59-.52 0-1.04.2-1.43.59L10.3 9.45l-7.72 7.72c-.78.78-.78 2.05 0 2.83L4 21.41c.39.39.9.59 1.41.59.51 0 1.02-.2 1.41-.59l7.78-7.78 2.81-2.81c.8-.78.8-2.07 0-2.86zM5.41 20L4 18.59l7.72-7.72 1.47 1.35L5.41 20z\"/>\n",
              "  </svg>\n",
              "      </button>\n",
              "      \n",
              "  <style>\n",
              "    .colab-df-container {\n",
              "      display:flex;\n",
              "      flex-wrap:wrap;\n",
              "      gap: 12px;\n",
              "    }\n",
              "\n",
              "    .colab-df-convert {\n",
              "      background-color: #E8F0FE;\n",
              "      border: none;\n",
              "      border-radius: 50%;\n",
              "      cursor: pointer;\n",
              "      display: none;\n",
              "      fill: #1967D2;\n",
              "      height: 32px;\n",
              "      padding: 0 0 0 0;\n",
              "      width: 32px;\n",
              "    }\n",
              "\n",
              "    .colab-df-convert:hover {\n",
              "      background-color: #E2EBFA;\n",
              "      box-shadow: 0px 1px 2px rgba(60, 64, 67, 0.3), 0px 1px 3px 1px rgba(60, 64, 67, 0.15);\n",
              "      fill: #174EA6;\n",
              "    }\n",
              "\n",
              "    [theme=dark] .colab-df-convert {\n",
              "      background-color: #3B4455;\n",
              "      fill: #D2E3FC;\n",
              "    }\n",
              "\n",
              "    [theme=dark] .colab-df-convert:hover {\n",
              "      background-color: #434B5C;\n",
              "      box-shadow: 0px 1px 3px 1px rgba(0, 0, 0, 0.15);\n",
              "      filter: drop-shadow(0px 1px 2px rgba(0, 0, 0, 0.3));\n",
              "      fill: #FFFFFF;\n",
              "    }\n",
              "  </style>\n",
              "\n",
              "      <script>\n",
              "        const buttonEl =\n",
              "          document.querySelector('#df-56e9731d-9ca7-475d-b6bd-5933908c720d button.colab-df-convert');\n",
              "        buttonEl.style.display =\n",
              "          google.colab.kernel.accessAllowed ? 'block' : 'none';\n",
              "\n",
              "        async function convertToInteractive(key) {\n",
              "          const element = document.querySelector('#df-56e9731d-9ca7-475d-b6bd-5933908c720d');\n",
              "          const dataTable =\n",
              "            await google.colab.kernel.invokeFunction('convertToInteractive',\n",
              "                                                     [key], {});\n",
              "          if (!dataTable) return;\n",
              "\n",
              "          const docLinkHtml = 'Like what you see? Visit the ' +\n",
              "            '<a target=\"_blank\" href=https://colab.research.google.com/notebooks/data_table.ipynb>data table notebook</a>'\n",
              "            + ' to learn more about interactive tables.';\n",
              "          element.innerHTML = '';\n",
              "          dataTable['output_type'] = 'display_data';\n",
              "          await google.colab.output.renderOutput(dataTable, element);\n",
              "          const docLink = document.createElement('div');\n",
              "          docLink.innerHTML = docLinkHtml;\n",
              "          element.appendChild(docLink);\n",
              "        }\n",
              "      </script>\n",
              "    </div>\n",
              "  </div>\n",
              "  "
            ]
          },
          "metadata": {},
          "execution_count": 12
        }
      ]
    },
    {
      "cell_type": "code",
      "source": [
        "dataset.shape"
      ],
      "metadata": {
        "colab": {
          "base_uri": "https://localhost:8080/"
        },
        "id": "1NvBAGxN5zVk",
        "outputId": "575f3c81-ee53-4c95-98b4-fc1389148dfc"
      },
      "execution_count": null,
      "outputs": [
        {
          "output_type": "execute_result",
          "data": {
            "text/plain": [
              "(2515, 7)"
            ]
          },
          "metadata": {},
          "execution_count": 13
        }
      ]
    },
    {
      "cell_type": "code",
      "source": [
        "plt.figure(figsize=(16,6))\n",
        "plt.title('Close Price History')\n",
        "plt.plot(dataset['Date'],dataset['Close'])\n",
        "plt.xlabel('Date', fontsize=18)\n",
        "plt.ylabel('Close Price USD ($)', fontsize=18)\n",
        "plt.show()"
      ],
      "metadata": {
        "colab": {
          "base_uri": "https://localhost:8080/",
          "height": 412
        },
        "id": "M3C0WiL055om",
        "outputId": "b7e67b69-28fe-4cbf-ff29-1fd948596ff6"
      },
      "execution_count": null,
      "outputs": [
        {
          "output_type": "display_data",
          "data": {
            "text/plain": [
              "<Figure size 1152x432 with 1 Axes>"
            ],
            "image/png": "[encoded data removed]"
          },
          "metadata": {
            "needs_background": "light"
          }
        }
      ]
    },
    {
      "cell_type": "code",
      "source": [
        "features = ['Open', 'High', 'Low', 'Close', 'Volume']\n",
        " \n",
        "plt.subplots(figsize=(20,10))\n",
        " \n",
        "for i, col in enumerate(features):\n",
        "  plt.subplot(2,3,i+1)\n",
        "  sb.distplot(dataset[col])\n",
        "plt.show()"
      ],
      "metadata": {
        "id": "IljM2_2X6L9t"
      },
      "execution_count": null,
      "outputs": []
    },
    {
      "cell_type": "code",
      "source": [
        "plt.subplots(figsize=(20,10))\n",
        "for i, col in enumerate(features):\n",
        "  plt.subplot(2,3,i+1)\n",
        "  sb.boxplot(dataset[col])\n",
        "plt.show()"
      ],
      "metadata": {
        "id": "ttj953B76OcN"
      },
      "execution_count": null,
      "outputs": []
    },
    {
      "cell_type": "code",
      "source": [
        "#moving average (30 days)\n",
        "ma30=dataset.Close.rolling(100).mean()\n",
        "ma30"
      ],
      "metadata": {
        "colab": {
          "base_uri": "https://localhost:8080/"
        },
        "id": "t7ftEWzv6Sac",
        "outputId": "d49e53a1-4a13-4fe0-c805-576d0d161514"
      },
      "execution_count": null,
      "outputs": [
        {
          "output_type": "execute_result",
          "data": {
            "text/plain": [
              "0              NaN\n",
              "1              NaN\n",
              "2              NaN\n",
              "3              NaN\n",
              "4              NaN\n",
              "           ...    \n",
              "3295    142.811599\n",
              "3296    142.804999\n",
              "3297    142.800499\n",
              "3298    142.802199\n",
              "3299    142.767499\n",
              "Name: Close, Length: 3300, dtype: float64"
            ]
          },
          "metadata": {},
          "execution_count": 9
        }
      ]
    },
    {
      "cell_type": "code",
      "source": [
        "plt.figure(figsize=(12,6))\n",
        "plt.plot(dataset.Date,dataset.Close)\n",
        "plt.plot(dataset.Date,ma30,'r')\n",
        "plt.show()"
      ],
      "metadata": {
        "colab": {
          "base_uri": "https://localhost:8080/",
          "height": 374
        },
        "id": "8e5QNpen6Xkw",
        "outputId": "47f2a4d0-043d-4576-db51-1f0c3c774c6e"
      },
      "execution_count": null,
      "outputs": [
        {
          "output_type": "display_data",
          "data": {
            "text/plain": [
              "<Figure size 864x432 with 1 Axes>"
            ],
            "image/png": "[encoded data removed]"
          },
          "metadata": {
            "needs_background": "light"
          }
        }
      ]
    },
    {
      "cell_type": "code",
      "source": [
        "from sklearn.preprocessing import MinMaxScaler, StandardScaler\n",
        "scaler=MinMaxScaler(feature_range=(0,1))"
      ],
      "metadata": {
        "id": "q_Pdpf793bEb"
      },
      "execution_count": null,
      "outputs": []
    },
    {
      "cell_type": "code",
      "source": [
        "train_data=pd.DataFrame(dataset['Close'][0:int(len(dataset)*.70)])\n",
        "test_data=pd.DataFrame(dataset['Close'][int(len(dataset)*.70):int(len(dataset))])\n",
        "print(train_data.shape,test_data.shape)"
      ],
      "metadata": {
        "colab": {
          "base_uri": "https://localhost:8080/"
        },
        "id": "ly4BBPe3H8_U",
        "outputId": "6007d812-fea7-4860-b7c4-c18ccbb554e9"
      },
      "execution_count": null,
      "outputs": [
        {
          "output_type": "stream",
          "name": "stdout",
          "text": [
            "(1760, 1) (755, 1)\n"
          ]
        }
      ]
    },
    {
      "cell_type": "code",
      "source": [
        "training_data=scaler.fit_transform(train_data)\n",
        "training_data"
      ],
      "metadata": {
        "colab": {
          "base_uri": "https://localhost:8080/"
        },
        "id": "yZF--WTrKLsN",
        "outputId": "d3474ceb-434f-40e4-8350-9b687c87f0bb"
      },
      "execution_count": null,
      "outputs": [
        {
          "output_type": "execute_result",
          "data": {
            "text/plain": [
              "array([[0.02971782],\n",
              "       [0.03021854],\n",
              "       [0.02560389],\n",
              "       ...,\n",
              "       [0.84388656],\n",
              "       [0.85089656],\n",
              "       [0.84616011]])"
            ]
          },
          "metadata": {},
          "execution_count": 16
        }
      ]
    },
    {
      "cell_type": "code",
      "source": [
        "training_data.shape"
      ],
      "metadata": {
        "colab": {
          "base_uri": "https://localhost:8080/"
        },
        "id": "fNmVjkYA8pEw",
        "outputId": "6481a022-4794-430e-92e2-721ab6ac81ea"
      },
      "execution_count": null,
      "outputs": [
        {
          "output_type": "execute_result",
          "data": {
            "text/plain": [
              "(2310, 1)"
            ]
          },
          "metadata": {},
          "execution_count": 15
        }
      ]
    },
    {
      "cell_type": "code",
      "source": [
        "time_step=100\n",
        "x_train=[]\n",
        "y_train=[]\n",
        "\n",
        "for i in range(time_step,training_data.shape[0]):\n",
        "  x_train.append(training_data[i-time_step: i])\n",
        "  y_train.append(training_data[i, 0])"
      ],
      "metadata": {
        "id": "58PusgfpKunL"
      },
      "execution_count": null,
      "outputs": []
    },
    {
      "cell_type": "code",
      "source": [
        "x_train, y_train =np.array(x_train), np.array(y_train)"
      ],
      "metadata": {
        "id": "ZowBKWExMEEo"
      },
      "execution_count": null,
      "outputs": []
    },
    {
      "cell_type": "code",
      "source": [
        "x_train.shape"
      ],
      "metadata": {
        "colab": {
          "base_uri": "https://localhost:8080/"
        },
        "id": "OrbtGEogMdym",
        "outputId": "9b77e18a-bb99-4f6a-f3e2-6bad0778c70e"
      },
      "execution_count": null,
      "outputs": [
        {
          "output_type": "execute_result",
          "data": {
            "text/plain": [
              "(2210, 100, 1)"
            ]
          },
          "metadata": {},
          "execution_count": 18
        }
      ]
    },
    {
      "cell_type": "code",
      "source": [
        "from sklearn import metrics\n",
        "# Build the LSTM model\n",
        "model = Sequential()\n",
        "\n",
        "model.add(LSTM(50, activation='relu', return_sequences=True, input_shape= (x_train.shape[1], 1)))\n",
        "model.add(Dropout(0.2))\n",
        "\n",
        "model.add(LSTM(60, activation='relu', return_sequences=True))\n",
        "model.add(Dropout(0.3))\n",
        "\n",
        "model.add(LSTM(80, activation='relu', return_sequences=True))\n",
        "model.add(Dropout(0.4))\n",
        "\n",
        "model.add(LSTM(120, activation='relu'))\n",
        "model.add(Dropout(0.5))\n",
        "\n",
        "#model.add(Dense(32,activation='relu'))\n",
        "model.add(Dense(1))\n",
        "model.summary()"
      ],
      "metadata": {
        "id": "7e2-tAXvCXmp",
        "colab": {
          "base_uri": "https://localhost:8080/"
        },
        "outputId": "00959e83-ebb0-4713-b5cc-d4893075cbcb"
      },
      "execution_count": null,
      "outputs": [
        {
          "output_type": "stream",
          "name": "stdout",
          "text": [
            "Model: \"sequential\"\n",
            "_________________________________________________________________\n",
            " Layer (type)                Output Shape              Param #   \n",
            "=================================================================\n",
            " lstm (LSTM)                 (None, 100, 50)           10400     \n",
            "                                                                 \n",
            " dropout (Dropout)           (None, 100, 50)           0         \n",
            "                                                                 \n",
            " lstm_1 (LSTM)               (None, 100, 60)           26640     \n",
            "                                                                 \n",
            " dropout_1 (Dropout)         (None, 100, 60)           0         \n",
            "                                                                 \n",
            " lstm_2 (LSTM)               (None, 100, 80)           45120     \n",
            "                                                                 \n",
            " dropout_2 (Dropout)         (None, 100, 80)           0         \n",
            "                                                                 \n",
            " lstm_3 (LSTM)               (None, 120)               96480     \n",
            "                                                                 \n",
            " dropout_3 (Dropout)         (None, 120)               0         \n",
            "                                                                 \n",
            " dense (Dense)               (None, 1)                 121       \n",
            "                                                                 \n",
            "=================================================================\n",
            "Total params: 178,761\n",
            "Trainable params: 178,761\n",
            "Non-trainable params: 0\n",
            "_________________________________________________________________\n"
          ]
        }
      ]
    },
    {
      "cell_type": "code",
      "source": [
        "# Compile the model\n",
        "model.compile(optimizer='adam', loss='mean_squared_error')\n",
        "\n",
        "# Train the model\n",
        "#checkpointer = ModelCheckpoint(filepath=\"model2.h5\", verbose=1, save_best_only=True, monitor='loss',mode='min')\n",
        "model.fit(x_train, y_train, epochs=50)"
      ],
      "metadata": {
        "id": "eMwuw6jmDAEX",
        "colab": {
          "base_uri": "https://localhost:8080/"
        },
        "outputId": "42ccf30d-f34e-4ba7-bc18-48eccbf186f9"
      },
      "execution_count": null,
      "outputs": [
        {
          "output_type": "stream",
          "name": "stdout",
          "text": [
            "Epoch 1/50\n",
            "52/52 [==============================] - 24s 320ms/step - loss: 0.0664\n",
            "Epoch 2/50\n",
            "52/52 [==============================] - 17s 323ms/step - loss: 0.0136\n",
            "Epoch 3/50\n",
            "52/52 [==============================] - 18s 337ms/step - loss: 0.0110\n",
            "Epoch 4/50\n",
            "52/52 [==============================] - 17s 323ms/step - loss: 0.0095\n",
            "Epoch 5/50\n",
            "52/52 [==============================] - 17s 322ms/step - loss: 0.0099\n",
            "Epoch 6/50\n",
            "52/52 [==============================] - 18s 342ms/step - loss: 0.0086\n",
            "Epoch 7/50\n",
            "52/52 [==============================] - 17s 322ms/step - loss: 0.0086\n",
            "Epoch 8/50\n",
            "52/52 [==============================] - 17s 337ms/step - loss: 0.0079\n",
            "Epoch 9/50\n",
            "52/52 [==============================] - 18s 335ms/step - loss: 0.0089\n",
            "Epoch 10/50\n",
            "52/52 [==============================] - 17s 324ms/step - loss: 0.0076\n",
            "Epoch 11/50\n",
            "52/52 [==============================] - 17s 336ms/step - loss: 0.0073\n",
            "Epoch 12/50\n",
            "52/52 [==============================] - 17s 329ms/step - loss: 0.0078\n",
            "Epoch 13/50\n",
            "52/52 [==============================] - 17s 323ms/step - loss: 0.0066\n",
            "Epoch 14/50\n",
            "52/52 [==============================] - 17s 337ms/step - loss: 0.0065\n",
            "Epoch 15/50\n",
            "52/52 [==============================] - 17s 332ms/step - loss: 0.0061\n",
            "Epoch 16/50\n",
            "52/52 [==============================] - 17s 326ms/step - loss: 0.0065\n",
            "Epoch 17/50\n",
            "52/52 [==============================] - 18s 354ms/step - loss: 0.0062\n",
            "Epoch 18/50\n",
            "52/52 [==============================] - 18s 344ms/step - loss: 0.0056\n",
            "Epoch 19/50\n",
            "52/52 [==============================] - 17s 337ms/step - loss: 0.0057\n",
            "Epoch 20/50\n",
            "52/52 [==============================] - 18s 349ms/step - loss: 0.0057\n",
            "Epoch 21/50\n",
            "52/52 [==============================] - 17s 324ms/step - loss: 0.0052\n",
            "Epoch 22/50\n",
            "52/52 [==============================] - 17s 326ms/step - loss: 0.0051\n",
            "Epoch 23/50\n",
            "52/52 [==============================] - 18s 349ms/step - loss: 0.0051\n",
            "Epoch 24/50\n",
            "52/52 [==============================] - 17s 326ms/step - loss: 0.0051\n",
            "Epoch 25/50\n",
            "52/52 [==============================] - 17s 323ms/step - loss: 0.0047\n",
            "Epoch 26/50\n",
            "52/52 [==============================] - 18s 343ms/step - loss: 0.0045\n",
            "Epoch 27/50\n",
            "52/52 [==============================] - 17s 326ms/step - loss: 0.0048\n",
            "Epoch 28/50\n",
            "52/52 [==============================] - 17s 330ms/step - loss: 0.0049\n",
            "Epoch 29/50\n",
            "52/52 [==============================] - 18s 337ms/step - loss: 0.0044\n",
            "Epoch 30/50\n",
            "52/52 [==============================] - 17s 326ms/step - loss: 0.0039\n",
            "Epoch 31/50\n",
            "52/52 [==============================] - 18s 338ms/step - loss: 0.0045\n",
            "Epoch 32/50\n",
            "52/52 [==============================] - 17s 327ms/step - loss: 0.0040\n",
            "Epoch 33/50\n",
            "52/52 [==============================] - 17s 322ms/step - loss: 0.0039\n",
            "Epoch 34/50\n",
            "52/52 [==============================] - 17s 336ms/step - loss: 0.0039\n",
            "Epoch 35/50\n",
            "52/52 [==============================] - 17s 330ms/step - loss: 0.0037\n",
            "Epoch 36/50\n",
            "52/52 [==============================] - 17s 323ms/step - loss: 0.0039\n",
            "Epoch 37/50\n",
            "52/52 [==============================] - 18s 342ms/step - loss: 0.0033\n",
            "Epoch 38/50\n",
            "52/52 [==============================] - 17s 324ms/step - loss: 0.0037\n",
            "Epoch 39/50\n",
            "52/52 [==============================] - 17s 325ms/step - loss: 0.0035\n",
            "Epoch 40/50\n",
            "52/52 [==============================] - 18s 340ms/step - loss: 0.0038\n",
            "Epoch 41/50\n",
            "52/52 [==============================] - 17s 320ms/step - loss: 0.0028\n",
            "Epoch 42/50\n",
            "52/52 [==============================] - 17s 321ms/step - loss: 0.0033\n",
            "Epoch 43/50\n",
            "52/52 [==============================] - 18s 343ms/step - loss: 0.0034\n",
            "Epoch 44/50\n",
            "52/52 [==============================] - 17s 326ms/step - loss: 0.0036\n",
            "Epoch 45/50\n",
            "52/52 [==============================] - 17s 327ms/step - loss: 0.0030\n",
            "Epoch 46/50\n",
            "52/52 [==============================] - 18s 348ms/step - loss: 0.0030\n",
            "Epoch 47/50\n",
            "52/52 [==============================] - 17s 322ms/step - loss: 0.0030\n",
            "Epoch 48/50\n",
            "52/52 [==============================] - 17s 321ms/step - loss: 0.0034\n",
            "Epoch 49/50\n",
            "52/52 [==============================] - 18s 347ms/step - loss: 0.0029\n",
            "Epoch 50/50\n",
            "52/52 [==============================] - 17s 323ms/step - loss: 0.0029\n"
          ]
        },
        {
          "output_type": "execute_result",
          "data": {
            "text/plain": [
              "<keras.callbacks.History at 0x7f9a741c9df0>"
            ]
          },
          "metadata": {},
          "execution_count": 20
        }
      ]
    },
    {
      "cell_type": "code",
      "source": [
        "model.save('keras_model.h5')"
      ],
      "metadata": {
        "id": "1wgFD7R_Re9t"
      },
      "execution_count": null,
      "outputs": []
    },
    {
      "cell_type": "code",
      "source": [
        "past_time_index=train_data.tail(time_step)\n",
        "final_test_data=past_time_index.append(test_data,ignore_index=True)"
      ],
      "metadata": {
        "id": "--nAoNigRjFj"
      },
      "execution_count": null,
      "outputs": []
    },
    {
      "cell_type": "code",
      "source": [
        "final_test_data"
      ],
      "metadata": {
        "id": "khdogISlWSrM"
      },
      "execution_count": null,
      "outputs": []
    },
    {
      "cell_type": "code",
      "source": [
        "final_testing_data=scaler.fit_transform(final_test_data)"
      ],
      "metadata": {
        "id": "_4ROqOUmTro2"
      },
      "execution_count": null,
      "outputs": []
    },
    {
      "cell_type": "code",
      "source": [
        "x_test=[]\n",
        "y_test=[]\n",
        "\n",
        "for i in range(time_step,final_testing_data.shape[0]):\n",
        "  x_test.append(final_testing_data[i-time_step: i])\n",
        "  y_test.append(final_testing_data[i, 0])"
      ],
      "metadata": {
        "id": "RH_zZjchWjqT"
      },
      "execution_count": null,
      "outputs": []
    },
    {
      "cell_type": "code",
      "source": [
        "x_test, y_test= np.array(x_test), np.array(y_test)\n",
        "print(x_test.shape, y_test.shape)"
      ],
      "metadata": {
        "colab": {
          "base_uri": "https://localhost:8080/"
        },
        "id": "H3-G5bDaXFg8",
        "outputId": "f1d1cb40-104f-4d5f-be82-02b627be164c"
      },
      "execution_count": null,
      "outputs": [
        {
          "output_type": "stream",
          "name": "stdout",
          "text": [
            "(755, 100, 1) (755,)\n"
          ]
        }
      ]
    },
    {
      "cell_type": "code",
      "source": [
        "y_pred=model.predict(x_test)"
      ],
      "metadata": {
        "colab": {
          "base_uri": "https://localhost:8080/"
        },
        "id": "Wog5Cd4mYhed",
        "outputId": "9ebfe2f1-15c8-41e9-dbda-cf622fd5978b"
      },
      "execution_count": null,
      "outputs": [
        {
          "output_type": "stream",
          "name": "stdout",
          "text": [
            "24/24 [==============================] - 3s 89ms/step\n"
          ]
        }
      ]
    },
    {
      "cell_type": "code",
      "source": [
        "y_pred=scaler.inverse_transform(y_pred)\n",
        "y_test=scaler.inverse_transform(y_pred)"
      ],
      "metadata": {
        "id": "W45B4z99-V_0"
      },
      "execution_count": null,
      "outputs": []
    },
    {
      "cell_type": "code",
      "source": [
        "scale_factor=1/scaler.scale_\n",
        "y_pred=y_pred * scale_factor\n",
        "y_test=y_test * scale_factor"
      ],
      "metadata": {
        "id": "KRtxNniceEBq"
      },
      "execution_count": null,
      "outputs": []
    },
    {
      "cell_type": "code",
      "source": [
        "plt.figure(figsize=(12,6))\n",
        "plt.plot(y_test, 'g', label ='Original Price')\n",
        "plt.plot(y_pred,'blue', label='Predicted Price')\n",
        "plt.xlabel('Time')\n",
        "plt.ylabel('Price')\n",
        "plt.legend()\n",
        "plt.show()"
      ],
      "metadata": {
        "colab": {
          "base_uri": "https://localhost:8080/",
          "height": 388
        },
        "id": "KaPHFthteEHT",
        "outputId": "94092b35-3dc3-4b65-b814-bb6321e4d2ed"
      },
      "execution_count": null,
      "outputs": [
        {
          "output_type": "display_data",
          "data": {
            "text/plain": [
              "<Figure size 864x432 with 1 Axes>"
            ],
            "image/png": "[encoded data removed]"
          },
          "metadata": {
            "needs_background": "light"
          }
        }
      ]
    },
    {
      "cell_type": "code",
      "source": [
        "### Calculate RMSE performance metrics\n",
        "import math\n",
        "from sklearn.metrics import mean_squared_error\n",
        "\n",
        "\n",
        "### Test Data RMSE\n",
        "math.sqrt(mean_squared_error(y_test,y_pred))"
      ],
      "metadata": {
        "colab": {
          "base_uri": "https://localhost:8080/"
        },
        "id": "ZIniQXA9M3iQ",
        "outputId": "091787a7-bc99-4550-f1ce-6532c12610b5"
      },
      "execution_count": null,
      "outputs": [
        {
          "output_type": "execute_result",
          "data": {
            "text/plain": [
              "7194.39523269159"
            ]
          },
          "metadata": {},
          "execution_count": 45
        }
      ]
    },
    {
      "cell_type": "code",
      "source": [
        "### Plotting \n",
        "# shift train predictions for plotting\n",
        "look_back=30\n",
        "trainPredictPlot = np.empty_like(df)\n",
        "trainPredictPlot[:, :] = np.nan\n",
        "trainPredictPlot[look_back:len(train_predict)+look_back, :] = train_predict\n",
        "# shift test predictions for plotting\n",
        "testPredictPlot = np.empty_like(df)\n",
        "testPredictPlot[:, :] = np.nan\n",
        "testPredictPlot[len(train_predict)+(look_back*2)+1:len(df)-1, :] = test_predict\n",
        "# plot baseline and predictions\n",
        "plt.plot(scaler.inverse_transform(df))\n",
        "plt.plot(trainPredictPlot)\n",
        "plt.plot(testPredictPlot)\n",
        "plt.show()"
      ],
      "metadata": {
        "colab": {
          "base_uri": "https://localhost:8080/",
          "height": 265
        },
        "id": "tluvwmIyM-EN",
        "outputId": "1ac9a033-7ba5-4450-fe53-ad396edbc1f3"
      },
      "execution_count": null,
      "outputs": [
        {
          "output_type": "display_data",
          "data": {
            "text/plain": [
              "<Figure size 432x288 with 1 Axes>"
            ],
            "image/png": "[encoded data removed]"
          },
          "metadata": {
            "needs_background": "light"
          }
        }
      ]
    },
    {
      "cell_type": "code",
      "source": [],
      "metadata": {
        "id": "rThVb8GfNyPN"
      },
      "execution_count": null,
      "outputs": []
    }
  ]
}