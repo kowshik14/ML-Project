{
  "nbformat": 4,
  "nbformat_minor": 0,
  "metadata": {
    "colab": {
      "provenance": []
    },
    "kernelspec": {
      "name": "python3",
      "display_name": "Python 3"
    },
    "language_info": {
      "name": "python"
    }
  },
  "cells": [
    {
      "cell_type": "code",
      "execution_count": null,
      "metadata": {
        "id": "EzdcMKZ65aJ-"
      },
      "outputs": [],
      "source": [
        "!pip install yfinance"
      ]
    },
    {
      "cell_type": "code",
      "source": [
        "import numpy as np\n",
        "import pandas as pd\n",
        "import matplotlib.pyplot as plt\n",
        "import pandas_datareader as data\n",
        "from sklearn.preprocessing import MinMaxScaler, StandardScaler\n",
        "import warnings\n",
        "import yfinance as yf\n",
        "import seaborn as sb\n",
        "warnings.filterwarnings('ignore')\n",
        "from tensorflow.keras.models import Sequential\n",
        "from tensorflow.keras.layers import Dense, BatchNormalization, SpatialDropout1D, Embedding, LSTM, GRU, Bidirectional, Dropout, Convolution1D\n",
        "from tensorflow.keras.callbacks import ModelCheckpoint, EarlyStopping, ReduceLROnPlateau, CSVLogger\n",
        "from tensorflow.keras.layers import Dense, Dropout, Activation, Embedding, MaxPooling1D"
      ],
      "metadata": {
        "id": "J0AtjwXX5hTV"
      },
      "execution_count": 2,
      "outputs": []
    },
    {
      "cell_type": "code",
      "source": [
        "import datetime\n",
        "start= '2010-01-01'\n",
        "end= '2019-12-31'\n",
        "#|dataset=yf.download('CSCO',start,end)\n",
        "dataset=yf.download('CSCO',start,datetime.date.today())\n",
        "#dataset=data.DataReader('TSLA', 'yahoo', start, datetime.date.today())\n",
        "dataset.head()"
      ],
      "metadata": {
        "id": "JaBOhwtB5vJ2",
        "colab": {
          "base_uri": "https://localhost:8080/",
          "height": 255
        },
        "outputId": "0caebf23-8655-4713-ca7d-0c03eb7da6ef"
      },
      "execution_count": 3,
      "outputs": [
        {
          "output_type": "stream",
          "name": "stdout",
          "text": [
            "\r[*********************100%***********************]  1 of 1 completed\n"
          ]
        },
        {
          "output_type": "execute_result",
          "data": {
            "text/plain": [
              "                 Open       High        Low      Close  Adj Close    Volume\n",
              "Date                                                                       \n",
              "2010-01-04  24.110001  24.840000  24.010000  24.690001  17.394129  59853700\n",
              "2010-01-05  24.600000  24.730000  24.379999  24.580000  17.316633  45124500\n",
              "2010-01-06  24.540001  24.740000  24.340000  24.420000  17.203909  35715700\n",
              "2010-01-07  24.299999  24.570000  24.170000  24.530001  17.281412  31531200\n",
              "2010-01-08  24.379999  24.700001  24.250000  24.660000  17.372995  39115900"
            ],
            "text/html": [
              "\n",
              "  <div id=\"df-100180e8-c3ad-436f-93d9-6a7c0f94d95d\">\n",
              "    <div class=\"colab-df-container\">\n",
              "      <div>\n",
              "<style scoped>\n",
              "    .dataframe tbody tr th:only-of-type {\n",
              "        vertical-align: middle;\n",
              "    }\n",
              "\n",
              "    .dataframe tbody tr th {\n",
              "        vertical-align: top;\n",
              "    }\n",
              "\n",
              "    .dataframe thead th {\n",
              "        text-align: right;\n",
              "    }\n",
              "</style>\n",
              "<table border=\"1\" class=\"dataframe\">\n",
              "  <thead>\n",
              "    <tr style=\"text-align: right;\">\n",
              "      <th></th>\n",
              "      <th>Open</th>\n",
              "      <th>High</th>\n",
              "      <th>Low</th>\n",
              "      <th>Close</th>\n",
              "      <th>Adj Close</th>\n",
              "      <th>Volume</th>\n",
              "    </tr>\n",
              "    <tr>\n",
              "      <th>Date</th>\n",
              "      <th></th>\n",
              "      <th></th>\n",
              "      <th></th>\n",
              "      <th></th>\n",
              "      <th></th>\n",
              "      <th></th>\n",
              "    </tr>\n",
              "  </thead>\n",
              "  <tbody>\n",
              "    <tr>\n",
              "      <th>2010-01-04</th>\n",
              "      <td>24.110001</td>\n",
              "      <td>24.840000</td>\n",
              "      <td>24.010000</td>\n",
              "      <td>24.690001</td>\n",
              "      <td>17.394129</td>\n",
              "      <td>59853700</td>\n",
              "    </tr>\n",
              "    <tr>\n",
              "      <th>2010-01-05</th>\n",
              "      <td>24.600000</td>\n",
              "      <td>24.730000</td>\n",
              "      <td>24.379999</td>\n",
              "      <td>24.580000</td>\n",
              "      <td>17.316633</td>\n",
              "      <td>45124500</td>\n",
              "    </tr>\n",
              "    <tr>\n",
              "      <th>2010-01-06</th>\n",
              "      <td>24.540001</td>\n",
              "      <td>24.740000</td>\n",
              "      <td>24.340000</td>\n",
              "      <td>24.420000</td>\n",
              "      <td>17.203909</td>\n",
              "      <td>35715700</td>\n",
              "    </tr>\n",
              "    <tr>\n",
              "      <th>2010-01-07</th>\n",
              "      <td>24.299999</td>\n",
              "      <td>24.570000</td>\n",
              "      <td>24.170000</td>\n",
              "      <td>24.530001</td>\n",
              "      <td>17.281412</td>\n",
              "      <td>31531200</td>\n",
              "    </tr>\n",
              "    <tr>\n",
              "      <th>2010-01-08</th>\n",
              "      <td>24.379999</td>\n",
              "      <td>24.700001</td>\n",
              "      <td>24.250000</td>\n",
              "      <td>24.660000</td>\n",
              "      <td>17.372995</td>\n",
              "      <td>39115900</td>\n",
              "    </tr>\n",
              "  </tbody>\n",
              "</table>\n",
              "</div>\n",
              "      <button class=\"colab-df-convert\" onclick=\"convertToInteractive('df-100180e8-c3ad-436f-93d9-6a7c0f94d95d')\"\n",
              "              title=\"Convert this dataframe to an interactive table.\"\n",
              "              style=\"display:none;\">\n",
              "        \n",
              "  <svg xmlns=\"http://www.w3.org/2000/svg\" height=\"24px\"viewBox=\"0 0 24 24\"\n",
              "       width=\"24px\">\n",
              "    <path d=\"M0 0h24v24H0V0z\" fill=\"none\"/>\n",
              "    <path d=\"M18.56 5.44l.94 2.06.94-2.06 2.06-.94-2.06-.94-.94-2.06-.94 2.06-2.06.94zm-11 1L8.5 8.5l.94-2.06 2.06-.94-2.06-.94L8.5 2.5l-.94 2.06-2.06.94zm10 10l.94 2.06.94-2.06 2.06-.94-2.06-.94-.94-2.06-.94 2.06-2.06.94z\"/><path d=\"M17.41 7.96l-1.37-1.37c-.4-.4-.92-.59-1.43-.59-.52 0-1.04.2-1.43.59L10.3 9.45l-7.72 7.72c-.78.78-.78 2.05 0 2.83L4 21.41c.39.39.9.59 1.41.59.51 0 1.02-.2 1.41-.59l7.78-7.78 2.81-2.81c.8-.78.8-2.07 0-2.86zM5.41 20L4 18.59l7.72-7.72 1.47 1.35L5.41 20z\"/>\n",
              "  </svg>\n",
              "      </button>\n",
              "      \n",
              "  <style>\n",
              "    .colab-df-container {\n",
              "      display:flex;\n",
              "      flex-wrap:wrap;\n",
              "      gap: 12px;\n",
              "    }\n",
              "\n",
              "    .colab-df-convert {\n",
              "      background-color: #E8F0FE;\n",
              "      border: none;\n",
              "      border-radius: 50%;\n",
              "      cursor: pointer;\n",
              "      display: none;\n",
              "      fill: #1967D2;\n",
              "      height: 32px;\n",
              "      padding: 0 0 0 0;\n",
              "      width: 32px;\n",
              "    }\n",
              "\n",
              "    .colab-df-convert:hover {\n",
              "      background-color: #E2EBFA;\n",
              "      box-shadow: 0px 1px 2px rgba(60, 64, 67, 0.3), 0px 1px 3px 1px rgba(60, 64, 67, 0.15);\n",
              "      fill: #174EA6;\n",
              "    }\n",
              "\n",
              "    [theme=dark] .colab-df-convert {\n",
              "      background-color: #3B4455;\n",
              "      fill: #D2E3FC;\n",
              "    }\n",
              "\n",
              "    [theme=dark] .colab-df-convert:hover {\n",
              "      background-color: #434B5C;\n",
              "      box-shadow: 0px 1px 3px 1px rgba(0, 0, 0, 0.15);\n",
              "      filter: drop-shadow(0px 1px 2px rgba(0, 0, 0, 0.3));\n",
              "      fill: #FFFFFF;\n",
              "    }\n",
              "  </style>\n",
              "\n",
              "      <script>\n",
              "        const buttonEl =\n",
              "          document.querySelector('#df-100180e8-c3ad-436f-93d9-6a7c0f94d95d button.colab-df-convert');\n",
              "        buttonEl.style.display =\n",
              "          google.colab.kernel.accessAllowed ? 'block' : 'none';\n",
              "\n",
              "        async function convertToInteractive(key) {\n",
              "          const element = document.querySelector('#df-100180e8-c3ad-436f-93d9-6a7c0f94d95d');\n",
              "          const dataTable =\n",
              "            await google.colab.kernel.invokeFunction('convertToInteractive',\n",
              "                                                     [key], {});\n",
              "          if (!dataTable) return;\n",
              "\n",
              "          const docLinkHtml = 'Like what you see? Visit the ' +\n",
              "            '<a target=\"_blank\" href=https://colab.research.google.com/notebooks/data_table.ipynb>data table notebook</a>'\n",
              "            + ' to learn more about interactive tables.';\n",
              "          element.innerHTML = '';\n",
              "          dataTable['output_type'] = 'display_data';\n",
              "          await google.colab.output.renderOutput(dataTable, element);\n",
              "          const docLink = document.createElement('div');\n",
              "          docLink.innerHTML = docLinkHtml;\n",
              "          element.appendChild(docLink);\n",
              "        }\n",
              "      </script>\n",
              "    </div>\n",
              "  </div>\n",
              "  "
            ]
          },
          "metadata": {},
          "execution_count": 3
        }
      ]
    },
    {
      "cell_type": "code",
      "source": [
        "dataset=dataset.reset_index()\n",
        "dataset"
      ],
      "metadata": {
        "colab": {
          "base_uri": "https://localhost:8080/",
          "height": 424
        },
        "id": "EelFqaxJhx8t",
        "outputId": "e2b525c2-e8bd-4626-9b39-89cb6f2e5b79"
      },
      "execution_count": 4,
      "outputs": [
        {
          "output_type": "execute_result",
          "data": {
            "text/plain": [
              "           Date       Open       High        Low      Close  Adj Close  \\\n",
              "0    2010-01-04  24.110001  24.840000  24.010000  24.690001  17.394129   \n",
              "1    2010-01-05  24.600000  24.730000  24.379999  24.580000  17.316633   \n",
              "2    2010-01-06  24.540001  24.740000  24.340000  24.420000  17.203909   \n",
              "3    2010-01-07  24.299999  24.570000  24.170000  24.530001  17.281412   \n",
              "4    2010-01-08  24.379999  24.700001  24.250000  24.660000  17.372995   \n",
              "...         ...        ...        ...        ...        ...        ...   \n",
              "3295 2023-02-06  48.070000  48.279999  47.520000  47.570000  47.570000   \n",
              "3296 2023-02-07  47.240002  48.150002  46.970001  47.840000  47.840000   \n",
              "3297 2023-02-08  47.380001  47.540001  46.770000  46.959999  46.959999   \n",
              "3298 2023-02-09  47.230000  47.410000  46.430000  46.730000  46.730000   \n",
              "3299 2023-02-10  46.700001  47.320000  46.639999  47.259998  47.259998   \n",
              "\n",
              "        Volume  \n",
              "0     59853700  \n",
              "1     45124500  \n",
              "2     35715700  \n",
              "3     31531200  \n",
              "4     39115900  \n",
              "...        ...  \n",
              "3295  13991600  \n",
              "3296  16675200  \n",
              "3297  18905500  \n",
              "3298  18598400  \n",
              "3299  17396500  \n",
              "\n",
              "[3300 rows x 7 columns]"
            ],
            "text/html": [
              "\n",
              "  <div id=\"df-2c9b8a69-926b-4ab7-b4ad-0b673cac8dec\">\n",
              "    <div class=\"colab-df-container\">\n",
              "      <div>\n",
              "<style scoped>\n",
              "    .dataframe tbody tr th:only-of-type {\n",
              "        vertical-align: middle;\n",
              "    }\n",
              "\n",
              "    .dataframe tbody tr th {\n",
              "        vertical-align: top;\n",
              "    }\n",
              "\n",
              "    .dataframe thead th {\n",
              "        text-align: right;\n",
              "    }\n",
              "</style>\n",
              "<table border=\"1\" class=\"dataframe\">\n",
              "  <thead>\n",
              "    <tr style=\"text-align: right;\">\n",
              "      <th></th>\n",
              "      <th>Date</th>\n",
              "      <th>Open</th>\n",
              "      <th>High</th>\n",
              "      <th>Low</th>\n",
              "      <th>Close</th>\n",
              "      <th>Adj Close</th>\n",
              "      <th>Volume</th>\n",
              "    </tr>\n",
              "  </thead>\n",
              "  <tbody>\n",
              "    <tr>\n",
              "      <th>0</th>\n",
              "      <td>2010-01-04</td>\n",
              "      <td>24.110001</td>\n",
              "      <td>24.840000</td>\n",
              "      <td>24.010000</td>\n",
              "      <td>24.690001</td>\n",
              "      <td>17.394129</td>\n",
              "      <td>59853700</td>\n",
              "    </tr>\n",
              "    <tr>\n",
              "      <th>1</th>\n",
              "      <td>2010-01-05</td>\n",
              "      <td>24.600000</td>\n",
              "      <td>24.730000</td>\n",
              "      <td>24.379999</td>\n",
              "      <td>24.580000</td>\n",
              "      <td>17.316633</td>\n",
              "      <td>45124500</td>\n",
              "    </tr>\n",
              "    <tr>\n",
              "      <th>2</th>\n",
              "      <td>2010-01-06</td>\n",
              "      <td>24.540001</td>\n",
              "      <td>24.740000</td>\n",
              "      <td>24.340000</td>\n",
              "      <td>24.420000</td>\n",
              "      <td>17.203909</td>\n",
              "      <td>35715700</td>\n",
              "    </tr>\n",
              "    <tr>\n",
              "      <th>3</th>\n",
              "      <td>2010-01-07</td>\n",
              "      <td>24.299999</td>\n",
              "      <td>24.570000</td>\n",
              "      <td>24.170000</td>\n",
              "      <td>24.530001</td>\n",
              "      <td>17.281412</td>\n",
              "      <td>31531200</td>\n",
              "    </tr>\n",
              "    <tr>\n",
              "      <th>4</th>\n",
              "      <td>2010-01-08</td>\n",
              "      <td>24.379999</td>\n",
              "      <td>24.700001</td>\n",
              "      <td>24.250000</td>\n",
              "      <td>24.660000</td>\n",
              "      <td>17.372995</td>\n",
              "      <td>39115900</td>\n",
              "    </tr>\n",
              "    <tr>\n",
              "      <th>...</th>\n",
              "      <td>...</td>\n",
              "      <td>...</td>\n",
              "      <td>...</td>\n",
              "      <td>...</td>\n",
              "      <td>...</td>\n",
              "      <td>...</td>\n",
              "      <td>...</td>\n",
              "    </tr>\n",
              "    <tr>\n",
              "      <th>3295</th>\n",
              "      <td>2023-02-06</td>\n",
              "      <td>48.070000</td>\n",
              "      <td>48.279999</td>\n",
              "      <td>47.520000</td>\n",
              "      <td>47.570000</td>\n",
              "      <td>47.570000</td>\n",
              "      <td>13991600</td>\n",
              "    </tr>\n",
              "    <tr>\n",
              "      <th>3296</th>\n",
              "      <td>2023-02-07</td>\n",
              "      <td>47.240002</td>\n",
              "      <td>48.150002</td>\n",
              "      <td>46.970001</td>\n",
              "      <td>47.840000</td>\n",
              "      <td>47.840000</td>\n",
              "      <td>16675200</td>\n",
              "    </tr>\n",
              "    <tr>\n",
              "      <th>3297</th>\n",
              "      <td>2023-02-08</td>\n",
              "      <td>47.380001</td>\n",
              "      <td>47.540001</td>\n",
              "      <td>46.770000</td>\n",
              "      <td>46.959999</td>\n",
              "      <td>46.959999</td>\n",
              "      <td>18905500</td>\n",
              "    </tr>\n",
              "    <tr>\n",
              "      <th>3298</th>\n",
              "      <td>2023-02-09</td>\n",
              "      <td>47.230000</td>\n",
              "      <td>47.410000</td>\n",
              "      <td>46.430000</td>\n",
              "      <td>46.730000</td>\n",
              "      <td>46.730000</td>\n",
              "      <td>18598400</td>\n",
              "    </tr>\n",
              "    <tr>\n",
              "      <th>3299</th>\n",
              "      <td>2023-02-10</td>\n",
              "      <td>46.700001</td>\n",
              "      <td>47.320000</td>\n",
              "      <td>46.639999</td>\n",
              "      <td>47.259998</td>\n",
              "      <td>47.259998</td>\n",
              "      <td>17396500</td>\n",
              "    </tr>\n",
              "  </tbody>\n",
              "</table>\n",
              "<p>3300 rows × 7 columns</p>\n",
              "</div>\n",
              "      <button class=\"colab-df-convert\" onclick=\"convertToInteractive('df-2c9b8a69-926b-4ab7-b4ad-0b673cac8dec')\"\n",
              "              title=\"Convert this dataframe to an interactive table.\"\n",
              "              style=\"display:none;\">\n",
              "        \n",
              "  <svg xmlns=\"http://www.w3.org/2000/svg\" height=\"24px\"viewBox=\"0 0 24 24\"\n",
              "       width=\"24px\">\n",
              "    <path d=\"M0 0h24v24H0V0z\" fill=\"none\"/>\n",
              "    <path d=\"M18.56 5.44l.94 2.06.94-2.06 2.06-.94-2.06-.94-.94-2.06-.94 2.06-2.06.94zm-11 1L8.5 8.5l.94-2.06 2.06-.94-2.06-.94L8.5 2.5l-.94 2.06-2.06.94zm10 10l.94 2.06.94-2.06 2.06-.94-2.06-.94-.94-2.06-.94 2.06-2.06.94z\"/><path d=\"M17.41 7.96l-1.37-1.37c-.4-.4-.92-.59-1.43-.59-.52 0-1.04.2-1.43.59L10.3 9.45l-7.72 7.72c-.78.78-.78 2.05 0 2.83L4 21.41c.39.39.9.59 1.41.59.51 0 1.02-.2 1.41-.59l7.78-7.78 2.81-2.81c.8-.78.8-2.07 0-2.86zM5.41 20L4 18.59l7.72-7.72 1.47 1.35L5.41 20z\"/>\n",
              "  </svg>\n",
              "      </button>\n",
              "      \n",
              "  <style>\n",
              "    .colab-df-container {\n",
              "      display:flex;\n",
              "      flex-wrap:wrap;\n",
              "      gap: 12px;\n",
              "    }\n",
              "\n",
              "    .colab-df-convert {\n",
              "      background-color: #E8F0FE;\n",
              "      border: none;\n",
              "      border-radius: 50%;\n",
              "      cursor: pointer;\n",
              "      display: none;\n",
              "      fill: #1967D2;\n",
              "      height: 32px;\n",
              "      padding: 0 0 0 0;\n",
              "      width: 32px;\n",
              "    }\n",
              "\n",
              "    .colab-df-convert:hover {\n",
              "      background-color: #E2EBFA;\n",
              "      box-shadow: 0px 1px 2px rgba(60, 64, 67, 0.3), 0px 1px 3px 1px rgba(60, 64, 67, 0.15);\n",
              "      fill: #174EA6;\n",
              "    }\n",
              "\n",
              "    [theme=dark] .colab-df-convert {\n",
              "      background-color: #3B4455;\n",
              "      fill: #D2E3FC;\n",
              "    }\n",
              "\n",
              "    [theme=dark] .colab-df-convert:hover {\n",
              "      background-color: #434B5C;\n",
              "      box-shadow: 0px 1px 3px 1px rgba(0, 0, 0, 0.15);\n",
              "      filter: drop-shadow(0px 1px 2px rgba(0, 0, 0, 0.3));\n",
              "      fill: #FFFFFF;\n",
              "    }\n",
              "  </style>\n",
              "\n",
              "      <script>\n",
              "        const buttonEl =\n",
              "          document.querySelector('#df-2c9b8a69-926b-4ab7-b4ad-0b673cac8dec button.colab-df-convert');\n",
              "        buttonEl.style.display =\n",
              "          google.colab.kernel.accessAllowed ? 'block' : 'none';\n",
              "\n",
              "        async function convertToInteractive(key) {\n",
              "          const element = document.querySelector('#df-2c9b8a69-926b-4ab7-b4ad-0b673cac8dec');\n",
              "          const dataTable =\n",
              "            await google.colab.kernel.invokeFunction('convertToInteractive',\n",
              "                                                     [key], {});\n",
              "          if (!dataTable) return;\n",
              "\n",
              "          const docLinkHtml = 'Like what you see? Visit the ' +\n",
              "            '<a target=\"_blank\" href=https://colab.research.google.com/notebooks/data_table.ipynb>data table notebook</a>'\n",
              "            + ' to learn more about interactive tables.';\n",
              "          element.innerHTML = '';\n",
              "          dataTable['output_type'] = 'display_data';\n",
              "          await google.colab.output.renderOutput(dataTable, element);\n",
              "          const docLink = document.createElement('div');\n",
              "          docLink.innerHTML = docLinkHtml;\n",
              "          element.appendChild(docLink);\n",
              "        }\n",
              "      </script>\n",
              "    </div>\n",
              "  </div>\n",
              "  "
            ]
          },
          "metadata": {},
          "execution_count": 4
        }
      ]
    },
    {
      "cell_type": "code",
      "source": [
        "dataset['Date'] = pd.to_datetime(dataset['Date'])"
      ],
      "metadata": {
        "id": "r4_uNt8UQIQ4"
      },
      "execution_count": 5,
      "outputs": []
    },
    {
      "cell_type": "code",
      "source": [
        "dataset"
      ],
      "metadata": {
        "id": "4QHxfjqM5yu1",
        "colab": {
          "base_uri": "https://localhost:8080/",
          "height": 424
        },
        "outputId": "89ae66ca-bf02-4fc8-9f57-183be3663efc"
      },
      "execution_count": 6,
      "outputs": [
        {
          "output_type": "execute_result",
          "data": {
            "text/plain": [
              "           Date       Open       High        Low      Close  Adj Close  \\\n",
              "0    2010-01-04  24.110001  24.840000  24.010000  24.690001  17.394129   \n",
              "1    2010-01-05  24.600000  24.730000  24.379999  24.580000  17.316633   \n",
              "2    2010-01-06  24.540001  24.740000  24.340000  24.420000  17.203909   \n",
              "3    2010-01-07  24.299999  24.570000  24.170000  24.530001  17.281412   \n",
              "4    2010-01-08  24.379999  24.700001  24.250000  24.660000  17.372995   \n",
              "...         ...        ...        ...        ...        ...        ...   \n",
              "3295 2023-02-06  48.070000  48.279999  47.520000  47.570000  47.570000   \n",
              "3296 2023-02-07  47.240002  48.150002  46.970001  47.840000  47.840000   \n",
              "3297 2023-02-08  47.380001  47.540001  46.770000  46.959999  46.959999   \n",
              "3298 2023-02-09  47.230000  47.410000  46.430000  46.730000  46.730000   \n",
              "3299 2023-02-10  46.700001  47.320000  46.639999  47.259998  47.259998   \n",
              "\n",
              "        Volume  \n",
              "0     59853700  \n",
              "1     45124500  \n",
              "2     35715700  \n",
              "3     31531200  \n",
              "4     39115900  \n",
              "...        ...  \n",
              "3295  13991600  \n",
              "3296  16675200  \n",
              "3297  18905500  \n",
              "3298  18598400  \n",
              "3299  17396500  \n",
              "\n",
              "[3300 rows x 7 columns]"
            ],
            "text/html": [
              "\n",
              "  <div id=\"df-d6eb898e-0b3c-489a-80c1-f7e96fae6700\">\n",
              "    <div class=\"colab-df-container\">\n",
              "      <div>\n",
              "<style scoped>\n",
              "    .dataframe tbody tr th:only-of-type {\n",
              "        vertical-align: middle;\n",
              "    }\n",
              "\n",
              "    .dataframe tbody tr th {\n",
              "        vertical-align: top;\n",
              "    }\n",
              "\n",
              "    .dataframe thead th {\n",
              "        text-align: right;\n",
              "    }\n",
              "</style>\n",
              "<table border=\"1\" class=\"dataframe\">\n",
              "  <thead>\n",
              "    <tr style=\"text-align: right;\">\n",
              "      <th></th>\n",
              "      <th>Date</th>\n",
              "      <th>Open</th>\n",
              "      <th>High</th>\n",
              "      <th>Low</th>\n",
              "      <th>Close</th>\n",
              "      <th>Adj Close</th>\n",
              "      <th>Volume</th>\n",
              "    </tr>\n",
              "  </thead>\n",
              "  <tbody>\n",
              "    <tr>\n",
              "      <th>0</th>\n",
              "      <td>2010-01-04</td>\n",
              "      <td>24.110001</td>\n",
              "      <td>24.840000</td>\n",
              "      <td>24.010000</td>\n",
              "      <td>24.690001</td>\n",
              "      <td>17.394129</td>\n",
              "      <td>59853700</td>\n",
              "    </tr>\n",
              "    <tr>\n",
              "      <th>1</th>\n",
              "      <td>2010-01-05</td>\n",
              "      <td>24.600000</td>\n",
              "      <td>24.730000</td>\n",
              "      <td>24.379999</td>\n",
              "      <td>24.580000</td>\n",
              "      <td>17.316633</td>\n",
              "      <td>45124500</td>\n",
              "    </tr>\n",
              "    <tr>\n",
              "      <th>2</th>\n",
              "      <td>2010-01-06</td>\n",
              "      <td>24.540001</td>\n",
              "      <td>24.740000</td>\n",
              "      <td>24.340000</td>\n",
              "      <td>24.420000</td>\n",
              "      <td>17.203909</td>\n",
              "      <td>35715700</td>\n",
              "    </tr>\n",
              "    <tr>\n",
              "      <th>3</th>\n",
              "      <td>2010-01-07</td>\n",
              "      <td>24.299999</td>\n",
              "      <td>24.570000</td>\n",
              "      <td>24.170000</td>\n",
              "      <td>24.530001</td>\n",
              "      <td>17.281412</td>\n",
              "      <td>31531200</td>\n",
              "    </tr>\n",
              "    <tr>\n",
              "      <th>4</th>\n",
              "      <td>2010-01-08</td>\n",
              "      <td>24.379999</td>\n",
              "      <td>24.700001</td>\n",
              "      <td>24.250000</td>\n",
              "      <td>24.660000</td>\n",
              "      <td>17.372995</td>\n",
              "      <td>39115900</td>\n",
              "    </tr>\n",
              "    <tr>\n",
              "      <th>...</th>\n",
              "      <td>...</td>\n",
              "      <td>...</td>\n",
              "      <td>...</td>\n",
              "      <td>...</td>\n",
              "      <td>...</td>\n",
              "      <td>...</td>\n",
              "      <td>...</td>\n",
              "    </tr>\n",
              "    <tr>\n",
              "      <th>3295</th>\n",
              "      <td>2023-02-06</td>\n",
              "      <td>48.070000</td>\n",
              "      <td>48.279999</td>\n",
              "      <td>47.520000</td>\n",
              "      <td>47.570000</td>\n",
              "      <td>47.570000</td>\n",
              "      <td>13991600</td>\n",
              "    </tr>\n",
              "    <tr>\n",
              "      <th>3296</th>\n",
              "      <td>2023-02-07</td>\n",
              "      <td>47.240002</td>\n",
              "      <td>48.150002</td>\n",
              "      <td>46.970001</td>\n",
              "      <td>47.840000</td>\n",
              "      <td>47.840000</td>\n",
              "      <td>16675200</td>\n",
              "    </tr>\n",
              "    <tr>\n",
              "      <th>3297</th>\n",
              "      <td>2023-02-08</td>\n",
              "      <td>47.380001</td>\n",
              "      <td>47.540001</td>\n",
              "      <td>46.770000</td>\n",
              "      <td>46.959999</td>\n",
              "      <td>46.959999</td>\n",
              "      <td>18905500</td>\n",
              "    </tr>\n",
              "    <tr>\n",
              "      <th>3298</th>\n",
              "      <td>2023-02-09</td>\n",
              "      <td>47.230000</td>\n",
              "      <td>47.410000</td>\n",
              "      <td>46.430000</td>\n",
              "      <td>46.730000</td>\n",
              "      <td>46.730000</td>\n",
              "      <td>18598400</td>\n",
              "    </tr>\n",
              "    <tr>\n",
              "      <th>3299</th>\n",
              "      <td>2023-02-10</td>\n",
              "      <td>46.700001</td>\n",
              "      <td>47.320000</td>\n",
              "      <td>46.639999</td>\n",
              "      <td>47.259998</td>\n",
              "      <td>47.259998</td>\n",
              "      <td>17396500</td>\n",
              "    </tr>\n",
              "  </tbody>\n",
              "</table>\n",
              "<p>3300 rows × 7 columns</p>\n",
              "</div>\n",
              "      <button class=\"colab-df-convert\" onclick=\"convertToInteractive('df-d6eb898e-0b3c-489a-80c1-f7e96fae6700')\"\n",
              "              title=\"Convert this dataframe to an interactive table.\"\n",
              "              style=\"display:none;\">\n",
              "        \n",
              "  <svg xmlns=\"http://www.w3.org/2000/svg\" height=\"24px\"viewBox=\"0 0 24 24\"\n",
              "       width=\"24px\">\n",
              "    <path d=\"M0 0h24v24H0V0z\" fill=\"none\"/>\n",
              "    <path d=\"M18.56 5.44l.94 2.06.94-2.06 2.06-.94-2.06-.94-.94-2.06-.94 2.06-2.06.94zm-11 1L8.5 8.5l.94-2.06 2.06-.94-2.06-.94L8.5 2.5l-.94 2.06-2.06.94zm10 10l.94 2.06.94-2.06 2.06-.94-2.06-.94-.94-2.06-.94 2.06-2.06.94z\"/><path d=\"M17.41 7.96l-1.37-1.37c-.4-.4-.92-.59-1.43-.59-.52 0-1.04.2-1.43.59L10.3 9.45l-7.72 7.72c-.78.78-.78 2.05 0 2.83L4 21.41c.39.39.9.59 1.41.59.51 0 1.02-.2 1.41-.59l7.78-7.78 2.81-2.81c.8-.78.8-2.07 0-2.86zM5.41 20L4 18.59l7.72-7.72 1.47 1.35L5.41 20z\"/>\n",
              "  </svg>\n",
              "      </button>\n",
              "      \n",
              "  <style>\n",
              "    .colab-df-container {\n",
              "      display:flex;\n",
              "      flex-wrap:wrap;\n",
              "      gap: 12px;\n",
              "    }\n",
              "\n",
              "    .colab-df-convert {\n",
              "      background-color: #E8F0FE;\n",
              "      border: none;\n",
              "      border-radius: 50%;\n",
              "      cursor: pointer;\n",
              "      display: none;\n",
              "      fill: #1967D2;\n",
              "      height: 32px;\n",
              "      padding: 0 0 0 0;\n",
              "      width: 32px;\n",
              "    }\n",
              "\n",
              "    .colab-df-convert:hover {\n",
              "      background-color: #E2EBFA;\n",
              "      box-shadow: 0px 1px 2px rgba(60, 64, 67, 0.3), 0px 1px 3px 1px rgba(60, 64, 67, 0.15);\n",
              "      fill: #174EA6;\n",
              "    }\n",
              "\n",
              "    [theme=dark] .colab-df-convert {\n",
              "      background-color: #3B4455;\n",
              "      fill: #D2E3FC;\n",
              "    }\n",
              "\n",
              "    [theme=dark] .colab-df-convert:hover {\n",
              "      background-color: #434B5C;\n",
              "      box-shadow: 0px 1px 3px 1px rgba(0, 0, 0, 0.15);\n",
              "      filter: drop-shadow(0px 1px 2px rgba(0, 0, 0, 0.3));\n",
              "      fill: #FFFFFF;\n",
              "    }\n",
              "  </style>\n",
              "\n",
              "      <script>\n",
              "        const buttonEl =\n",
              "          document.querySelector('#df-d6eb898e-0b3c-489a-80c1-f7e96fae6700 button.colab-df-convert');\n",
              "        buttonEl.style.display =\n",
              "          google.colab.kernel.accessAllowed ? 'block' : 'none';\n",
              "\n",
              "        async function convertToInteractive(key) {\n",
              "          const element = document.querySelector('#df-d6eb898e-0b3c-489a-80c1-f7e96fae6700');\n",
              "          const dataTable =\n",
              "            await google.colab.kernel.invokeFunction('convertToInteractive',\n",
              "                                                     [key], {});\n",
              "          if (!dataTable) return;\n",
              "\n",
              "          const docLinkHtml = 'Like what you see? Visit the ' +\n",
              "            '<a target=\"_blank\" href=https://colab.research.google.com/notebooks/data_table.ipynb>data table notebook</a>'\n",
              "            + ' to learn more about interactive tables.';\n",
              "          element.innerHTML = '';\n",
              "          dataTable['output_type'] = 'display_data';\n",
              "          await google.colab.output.renderOutput(dataTable, element);\n",
              "          const docLink = document.createElement('div');\n",
              "          docLink.innerHTML = docLinkHtml;\n",
              "          element.appendChild(docLink);\n",
              "        }\n",
              "      </script>\n",
              "    </div>\n",
              "  </div>\n",
              "  "
            ]
          },
          "metadata": {},
          "execution_count": 6
        }
      ]
    },
    {
      "cell_type": "code",
      "source": [
        "dataset.shape"
      ],
      "metadata": {
        "colab": {
          "base_uri": "https://localhost:8080/"
        },
        "id": "1NvBAGxN5zVk",
        "outputId": "0c7cdc71-6991-4d0b-aadb-c1e4e6afd3aa"
      },
      "execution_count": null,
      "outputs": [
        {
          "output_type": "execute_result",
          "data": {
            "text/plain": [
              "(3300, 7)"
            ]
          },
          "metadata": {},
          "execution_count": 8
        }
      ]
    },
    {
      "cell_type": "code",
      "source": [
        "plt.figure(figsize=(16,6))\n",
        "plt.title('Close Price History')\n",
        "plt.plot(dataset['Date'],dataset['Close'])\n",
        "plt.xlabel('Date', fontsize=18)\n",
        "plt.ylabel('Close Price USD ($)', fontsize=18)\n",
        "plt.show()"
      ],
      "metadata": {
        "colab": {
          "base_uri": "https://localhost:8080/",
          "height": 412
        },
        "id": "M3C0WiL055om",
        "outputId": "e92025e1-6ca9-4117-ec7e-dab1bd0d0fdd"
      },
      "execution_count": null,
      "outputs": [
        {
          "output_type": "display_data",
          "data": {
            "text/plain": [
              "<Figure size 1152x432 with 1 Axes>"
            ],
            "image/png": "[encoded data removed]"
          },
          "metadata": {
            "needs_background": "light"
          }
        }
      ]
    },
    {
      "cell_type": "code",
      "source": [
        "features = ['Open', 'High', 'Low', 'Close', 'Volume']\n",
        " \n",
        "plt.subplots(figsize=(20,10))\n",
        "\n",
        " \n",
        "for i, col in enumerate(features):\n",
        "  plt.subplot(2,3,i+1)\n",
        "  sb.distplot(dataset[col])\n",
        "plt.show()"
      ],
      "metadata": {
        "id": "IljM2_2X6L9t",
        "colab": {
          "base_uri": "https://localhost:8080/",
          "height": 606
        },
        "outputId": "56856a56-b292-48e3-f521-0d488c9f2680"
      },
      "execution_count": null,
      "outputs": [
        {
          "output_type": "display_data",
          "data": {
            "text/plain": [
              "<Figure size 1440x720 with 5 Axes>"
            ],
            "image/png": "[encoded data removed]"
          },
          "metadata": {
            "needs_background": "light"
          }
        }
      ]
    },
    {
      "cell_type": "markdown",
      "source": [
        "In the distribution plot of **OHLC** data, we can see two peaks which means the data has varied significantly in two regions. And the Volume data is left-skewed."
      ],
      "metadata": {
        "id": "B-D3_D6XNyXR"
      }
    },
    {
      "cell_type": "code",
      "source": [
        "plt.subplots(figsize=(20,10))\n",
        "for i, col in enumerate(features):\n",
        "  plt.subplot(2,3,i+1)\n",
        "  sb.boxplot(dataset[col])\n",
        "plt.show()"
      ],
      "metadata": {
        "id": "ttj953B76OcN",
        "colab": {
          "base_uri": "https://localhost:8080/",
          "height": 606
        },
        "outputId": "2d8ec5a1-72bf-4ea2-bcde-112196a31396"
      },
      "execution_count": null,
      "outputs": [
        {
          "output_type": "display_data",
          "data": {
            "text/plain": [
              "<Figure size 1440x720 with 5 Axes>"
            ],
            "image/png": "[encoded data removed]"
          },
          "metadata": {
            "needs_background": "light"
          }
        }
      ]
    },
    {
      "cell_type": "markdown",
      "source": [
        "From the above **boxplots**, we can conclude that only volume data contains outliers in it but the data in the rest of the columns are free from any outlier."
      ],
      "metadata": {
        "id": "t88I6LHhONfA"
      }
    },
    {
      "cell_type": "code",
      "source": [
        "dataset['day'] = dataset['Date'].dt.day\n",
        "dataset['month'] = dataset['Date'].dt.month\n",
        "dataset['year'] = dataset['Date'].dt.year"
      ],
      "metadata": {
        "id": "C8RShOG8QhlY"
      },
      "execution_count": null,
      "outputs": []
    },
    {
      "cell_type": "code",
      "source": [
        "dataset['is_quarter_end'] = np.where(dataset['month']%3==0,1,0)\n",
        "dataset.head()"
      ],
      "metadata": {
        "id": "OAw_C-ZtQ6v4",
        "colab": {
          "base_uri": "https://localhost:8080/",
          "height": 206
        },
        "outputId": "cfd0a765-73ca-4304-b42c-776bb04619ca"
      },
      "execution_count": null,
      "outputs": [
        {
          "output_type": "execute_result",
          "data": {
            "text/plain": [
              "        Date       Open       High        Low      Close  Adj Close    Volume  \\\n",
              "0 2010-01-04  24.110001  24.840000  24.010000  24.690001  17.394129  59853700   \n",
              "1 2010-01-05  24.600000  24.730000  24.379999  24.580000  17.316633  45124500   \n",
              "2 2010-01-06  24.540001  24.740000  24.340000  24.420000  17.203915  35715700   \n",
              "3 2010-01-07  24.299999  24.570000  24.170000  24.530001  17.281410  31531200   \n",
              "4 2010-01-08  24.379999  24.700001  24.250000  24.660000  17.372997  39115900   \n",
              "\n",
              "   day  month  year  is_quarter_end  \n",
              "0    4      1  2010               0  \n",
              "1    5      1  2010               0  \n",
              "2    6      1  2010               0  \n",
              "3    7      1  2010               0  \n",
              "4    8      1  2010               0  "
            ],
            "text/html": [
              "\n",
              "  <div id=\"df-369f413d-6318-4a79-b4ae-4d2520da1391\">\n",
              "    <div class=\"colab-df-container\">\n",
              "      <div>\n",
              "<style scoped>\n",
              "    .dataframe tbody tr th:only-of-type {\n",
              "        vertical-align: middle;\n",
              "    }\n",
              "\n",
              "    .dataframe tbody tr th {\n",
              "        vertical-align: top;\n",
              "    }\n",
              "\n",
              "    .dataframe thead th {\n",
              "        text-align: right;\n",
              "    }\n",
              "</style>\n",
              "<table border=\"1\" class=\"dataframe\">\n",
              "  <thead>\n",
              "    <tr style=\"text-align: right;\">\n",
              "      <th></th>\n",
              "      <th>Date</th>\n",
              "      <th>Open</th>\n",
              "      <th>High</th>\n",
              "      <th>Low</th>\n",
              "      <th>Close</th>\n",
              "      <th>Adj Close</th>\n",
              "      <th>Volume</th>\n",
              "      <th>day</th>\n",
              "      <th>month</th>\n",
              "      <th>year</th>\n",
              "      <th>is_quarter_end</th>\n",
              "    </tr>\n",
              "  </thead>\n",
              "  <tbody>\n",
              "    <tr>\n",
              "      <th>0</th>\n",
              "      <td>2010-01-04</td>\n",
              "      <td>24.110001</td>\n",
              "      <td>24.840000</td>\n",
              "      <td>24.010000</td>\n",
              "      <td>24.690001</td>\n",
              "      <td>17.394129</td>\n",
              "      <td>59853700</td>\n",
              "      <td>4</td>\n",
              "      <td>1</td>\n",
              "      <td>2010</td>\n",
              "      <td>0</td>\n",
              "    </tr>\n",
              "    <tr>\n",
              "      <th>1</th>\n",
              "      <td>2010-01-05</td>\n",
              "      <td>24.600000</td>\n",
              "      <td>24.730000</td>\n",
              "      <td>24.379999</td>\n",
              "      <td>24.580000</td>\n",
              "      <td>17.316633</td>\n",
              "      <td>45124500</td>\n",
              "      <td>5</td>\n",
              "      <td>1</td>\n",
              "      <td>2010</td>\n",
              "      <td>0</td>\n",
              "    </tr>\n",
              "    <tr>\n",
              "      <th>2</th>\n",
              "      <td>2010-01-06</td>\n",
              "      <td>24.540001</td>\n",
              "      <td>24.740000</td>\n",
              "      <td>24.340000</td>\n",
              "      <td>24.420000</td>\n",
              "      <td>17.203915</td>\n",
              "      <td>35715700</td>\n",
              "      <td>6</td>\n",
              "      <td>1</td>\n",
              "      <td>2010</td>\n",
              "      <td>0</td>\n",
              "    </tr>\n",
              "    <tr>\n",
              "      <th>3</th>\n",
              "      <td>2010-01-07</td>\n",
              "      <td>24.299999</td>\n",
              "      <td>24.570000</td>\n",
              "      <td>24.170000</td>\n",
              "      <td>24.530001</td>\n",
              "      <td>17.281410</td>\n",
              "      <td>31531200</td>\n",
              "      <td>7</td>\n",
              "      <td>1</td>\n",
              "      <td>2010</td>\n",
              "      <td>0</td>\n",
              "    </tr>\n",
              "    <tr>\n",
              "      <th>4</th>\n",
              "      <td>2010-01-08</td>\n",
              "      <td>24.379999</td>\n",
              "      <td>24.700001</td>\n",
              "      <td>24.250000</td>\n",
              "      <td>24.660000</td>\n",
              "      <td>17.372997</td>\n",
              "      <td>39115900</td>\n",
              "      <td>8</td>\n",
              "      <td>1</td>\n",
              "      <td>2010</td>\n",
              "      <td>0</td>\n",
              "    </tr>\n",
              "  </tbody>\n",
              "</table>\n",
              "</div>\n",
              "      <button class=\"colab-df-convert\" onclick=\"convertToInteractive('df-369f413d-6318-4a79-b4ae-4d2520da1391')\"\n",
              "              title=\"Convert this dataframe to an interactive table.\"\n",
              "              style=\"display:none;\">\n",
              "        \n",
              "  <svg xmlns=\"http://www.w3.org/2000/svg\" height=\"24px\"viewBox=\"0 0 24 24\"\n",
              "       width=\"24px\">\n",
              "    <path d=\"M0 0h24v24H0V0z\" fill=\"none\"/>\n",
              "    <path d=\"M18.56 5.44l.94 2.06.94-2.06 2.06-.94-2.06-.94-.94-2.06-.94 2.06-2.06.94zm-11 1L8.5 8.5l.94-2.06 2.06-.94-2.06-.94L8.5 2.5l-.94 2.06-2.06.94zm10 10l.94 2.06.94-2.06 2.06-.94-2.06-.94-.94-2.06-.94 2.06-2.06.94z\"/><path d=\"M17.41 7.96l-1.37-1.37c-.4-.4-.92-.59-1.43-.59-.52 0-1.04.2-1.43.59L10.3 9.45l-7.72 7.72c-.78.78-.78 2.05 0 2.83L4 21.41c.39.39.9.59 1.41.59.51 0 1.02-.2 1.41-.59l7.78-7.78 2.81-2.81c.8-.78.8-2.07 0-2.86zM5.41 20L4 18.59l7.72-7.72 1.47 1.35L5.41 20z\"/>\n",
              "  </svg>\n",
              "      </button>\n",
              "      \n",
              "  <style>\n",
              "    .colab-df-container {\n",
              "      display:flex;\n",
              "      flex-wrap:wrap;\n",
              "      gap: 12px;\n",
              "    }\n",
              "\n",
              "    .colab-df-convert {\n",
              "      background-color: #E8F0FE;\n",
              "      border: none;\n",
              "      border-radius: 50%;\n",
              "      cursor: pointer;\n",
              "      display: none;\n",
              "      fill: #1967D2;\n",
              "      height: 32px;\n",
              "      padding: 0 0 0 0;\n",
              "      width: 32px;\n",
              "    }\n",
              "\n",
              "    .colab-df-convert:hover {\n",
              "      background-color: #E2EBFA;\n",
              "      box-shadow: 0px 1px 2px rgba(60, 64, 67, 0.3), 0px 1px 3px 1px rgba(60, 64, 67, 0.15);\n",
              "      fill: #174EA6;\n",
              "    }\n",
              "\n",
              "    [theme=dark] .colab-df-convert {\n",
              "      background-color: #3B4455;\n",
              "      fill: #D2E3FC;\n",
              "    }\n",
              "\n",
              "    [theme=dark] .colab-df-convert:hover {\n",
              "      background-color: #434B5C;\n",
              "      box-shadow: 0px 1px 3px 1px rgba(0, 0, 0, 0.15);\n",
              "      filter: drop-shadow(0px 1px 2px rgba(0, 0, 0, 0.3));\n",
              "      fill: #FFFFFF;\n",
              "    }\n",
              "  </style>\n",
              "\n",
              "      <script>\n",
              "        const buttonEl =\n",
              "          document.querySelector('#df-369f413d-6318-4a79-b4ae-4d2520da1391 button.colab-df-convert');\n",
              "        buttonEl.style.display =\n",
              "          google.colab.kernel.accessAllowed ? 'block' : 'none';\n",
              "\n",
              "        async function convertToInteractive(key) {\n",
              "          const element = document.querySelector('#df-369f413d-6318-4a79-b4ae-4d2520da1391');\n",
              "          const dataTable =\n",
              "            await google.colab.kernel.invokeFunction('convertToInteractive',\n",
              "                                                     [key], {});\n",
              "          if (!dataTable) return;\n",
              "\n",
              "          const docLinkHtml = 'Like what you see? Visit the ' +\n",
              "            '<a target=\"_blank\" href=https://colab.research.google.com/notebooks/data_table.ipynb>data table notebook</a>'\n",
              "            + ' to learn more about interactive tables.';\n",
              "          element.innerHTML = '';\n",
              "          dataTable['output_type'] = 'display_data';\n",
              "          await google.colab.output.renderOutput(dataTable, element);\n",
              "          const docLink = document.createElement('div');\n",
              "          docLink.innerHTML = docLinkHtml;\n",
              "          element.appendChild(docLink);\n",
              "        }\n",
              "      </script>\n",
              "    </div>\n",
              "  </div>\n",
              "  "
            ]
          },
          "metadata": {},
          "execution_count": 13
        }
      ]
    },
    {
      "cell_type": "markdown",
      "source": [
        "A quarter is defined as a group of three months. Every company prepares its quarterly results and publishes them publicly so, that people can analyze the company’s performance. These quarterly results affect the stock prices heavily which is why we have added this feature because this can be a helpful feature for the learning model."
      ],
      "metadata": {
        "id": "ATr7INecRru2"
      }
    },
    {
      "cell_type": "code",
      "source": [
        "data_grouped = dataset.groupby('year').mean()\n",
        "plt.subplots(figsize=(20,10))\n",
        " \n",
        "for i, col in enumerate(['Open', 'High', 'Low', 'Close']):\n",
        "  plt.subplot(2,2,i+1)\n",
        "  data_grouped[col].plot.bar()\n",
        "plt.show()"
      ],
      "metadata": {
        "colab": {
          "base_uri": "https://localhost:8080/",
          "height": 621
        },
        "id": "5Rj-nq4PSIGX",
        "outputId": "df26e2c8-3bb0-4340-ff67-61683bab23ff"
      },
      "execution_count": null,
      "outputs": [
        {
          "output_type": "display_data",
          "data": {
            "text/plain": [
              "<Figure size 1440x720 with 4 Axes>"
            ],
            "image/png": "[encoded data removed]"
          },
          "metadata": {
            "needs_background": "light"
          }
        }
      ]
    },
    {
      "cell_type": "markdown",
      "source": [
        "From the above bar graph, we can conclude that the stock prices have increased consecutively from the year 2011 to that in 2019."
      ],
      "metadata": {
        "id": "wnYdL6OJSjnF"
      }
    },
    {
      "cell_type": "code",
      "source": [
        "dataset.groupby('is_quarter_end').mean()"
      ],
      "metadata": {
        "colab": {
          "base_uri": "https://localhost:8080/",
          "height": 143
        },
        "id": "lYgeibaHTLDn",
        "outputId": "432d1e68-fc5a-4dc1-cd29-2424496ed960"
      },
      "execution_count": null,
      "outputs": [
        {
          "output_type": "execute_result",
          "data": {
            "text/plain": [
              "                     Open       High        Low      Close  Adj Close  \\\n",
              "is_quarter_end                                                          \n",
              "0               33.611699  33.918852  33.300633  33.622436  28.808522   \n",
              "1               33.638632  33.957808  33.335589  33.643089  28.765660   \n",
              "\n",
              "                      Volume        day     month         year  \n",
              "is_quarter_end                                                  \n",
              "0               3.309958e+07  15.668488  6.033242  2016.088798  \n",
              "1               3.147228e+07  15.767210  7.434783  2016.003623  "
            ],
            "text/html": [
              "\n",
              "  <div id=\"df-0cacb923-a623-4717-9a5e-13e19ad0dbb1\">\n",
              "    <div class=\"colab-df-container\">\n",
              "      <div>\n",
              "<style scoped>\n",
              "    .dataframe tbody tr th:only-of-type {\n",
              "        vertical-align: middle;\n",
              "    }\n",
              "\n",
              "    .dataframe tbody tr th {\n",
              "        vertical-align: top;\n",
              "    }\n",
              "\n",
              "    .dataframe thead th {\n",
              "        text-align: right;\n",
              "    }\n",
              "</style>\n",
              "<table border=\"1\" class=\"dataframe\">\n",
              "  <thead>\n",
              "    <tr style=\"text-align: right;\">\n",
              "      <th></th>\n",
              "      <th>Open</th>\n",
              "      <th>High</th>\n",
              "      <th>Low</th>\n",
              "      <th>Close</th>\n",
              "      <th>Adj Close</th>\n",
              "      <th>Volume</th>\n",
              "      <th>day</th>\n",
              "      <th>month</th>\n",
              "      <th>year</th>\n",
              "    </tr>\n",
              "    <tr>\n",
              "      <th>is_quarter_end</th>\n",
              "      <th></th>\n",
              "      <th></th>\n",
              "      <th></th>\n",
              "      <th></th>\n",
              "      <th></th>\n",
              "      <th></th>\n",
              "      <th></th>\n",
              "      <th></th>\n",
              "      <th></th>\n",
              "    </tr>\n",
              "  </thead>\n",
              "  <tbody>\n",
              "    <tr>\n",
              "      <th>0</th>\n",
              "      <td>33.611699</td>\n",
              "      <td>33.918852</td>\n",
              "      <td>33.300633</td>\n",
              "      <td>33.622436</td>\n",
              "      <td>28.808522</td>\n",
              "      <td>3.309958e+07</td>\n",
              "      <td>15.668488</td>\n",
              "      <td>6.033242</td>\n",
              "      <td>2016.088798</td>\n",
              "    </tr>\n",
              "    <tr>\n",
              "      <th>1</th>\n",
              "      <td>33.638632</td>\n",
              "      <td>33.957808</td>\n",
              "      <td>33.335589</td>\n",
              "      <td>33.643089</td>\n",
              "      <td>28.765660</td>\n",
              "      <td>3.147228e+07</td>\n",
              "      <td>15.767210</td>\n",
              "      <td>7.434783</td>\n",
              "      <td>2016.003623</td>\n",
              "    </tr>\n",
              "  </tbody>\n",
              "</table>\n",
              "</div>\n",
              "      <button class=\"colab-df-convert\" onclick=\"convertToInteractive('df-0cacb923-a623-4717-9a5e-13e19ad0dbb1')\"\n",
              "              title=\"Convert this dataframe to an interactive table.\"\n",
              "              style=\"display:none;\">\n",
              "        \n",
              "  <svg xmlns=\"http://www.w3.org/2000/svg\" height=\"24px\"viewBox=\"0 0 24 24\"\n",
              "       width=\"24px\">\n",
              "    <path d=\"M0 0h24v24H0V0z\" fill=\"none\"/>\n",
              "    <path d=\"M18.56 5.44l.94 2.06.94-2.06 2.06-.94-2.06-.94-.94-2.06-.94 2.06-2.06.94zm-11 1L8.5 8.5l.94-2.06 2.06-.94-2.06-.94L8.5 2.5l-.94 2.06-2.06.94zm10 10l.94 2.06.94-2.06 2.06-.94-2.06-.94-.94-2.06-.94 2.06-2.06.94z\"/><path d=\"M17.41 7.96l-1.37-1.37c-.4-.4-.92-.59-1.43-.59-.52 0-1.04.2-1.43.59L10.3 9.45l-7.72 7.72c-.78.78-.78 2.05 0 2.83L4 21.41c.39.39.9.59 1.41.59.51 0 1.02-.2 1.41-.59l7.78-7.78 2.81-2.81c.8-.78.8-2.07 0-2.86zM5.41 20L4 18.59l7.72-7.72 1.47 1.35L5.41 20z\"/>\n",
              "  </svg>\n",
              "      </button>\n",
              "      \n",
              "  <style>\n",
              "    .colab-df-container {\n",
              "      display:flex;\n",
              "      flex-wrap:wrap;\n",
              "      gap: 12px;\n",
              "    }\n",
              "\n",
              "    .colab-df-convert {\n",
              "      background-color: #E8F0FE;\n",
              "      border: none;\n",
              "      border-radius: 50%;\n",
              "      cursor: pointer;\n",
              "      display: none;\n",
              "      fill: #1967D2;\n",
              "      height: 32px;\n",
              "      padding: 0 0 0 0;\n",
              "      width: 32px;\n",
              "    }\n",
              "\n",
              "    .colab-df-convert:hover {\n",
              "      background-color: #E2EBFA;\n",
              "      box-shadow: 0px 1px 2px rgba(60, 64, 67, 0.3), 0px 1px 3px 1px rgba(60, 64, 67, 0.15);\n",
              "      fill: #174EA6;\n",
              "    }\n",
              "\n",
              "    [theme=dark] .colab-df-convert {\n",
              "      background-color: #3B4455;\n",
              "      fill: #D2E3FC;\n",
              "    }\n",
              "\n",
              "    [theme=dark] .colab-df-convert:hover {\n",
              "      background-color: #434B5C;\n",
              "      box-shadow: 0px 1px 3px 1px rgba(0, 0, 0, 0.15);\n",
              "      filter: drop-shadow(0px 1px 2px rgba(0, 0, 0, 0.3));\n",
              "      fill: #FFFFFF;\n",
              "    }\n",
              "  </style>\n",
              "\n",
              "      <script>\n",
              "        const buttonEl =\n",
              "          document.querySelector('#df-0cacb923-a623-4717-9a5e-13e19ad0dbb1 button.colab-df-convert');\n",
              "        buttonEl.style.display =\n",
              "          google.colab.kernel.accessAllowed ? 'block' : 'none';\n",
              "\n",
              "        async function convertToInteractive(key) {\n",
              "          const element = document.querySelector('#df-0cacb923-a623-4717-9a5e-13e19ad0dbb1');\n",
              "          const dataTable =\n",
              "            await google.colab.kernel.invokeFunction('convertToInteractive',\n",
              "                                                     [key], {});\n",
              "          if (!dataTable) return;\n",
              "\n",
              "          const docLinkHtml = 'Like what you see? Visit the ' +\n",
              "            '<a target=\"_blank\" href=https://colab.research.google.com/notebooks/data_table.ipynb>data table notebook</a>'\n",
              "            + ' to learn more about interactive tables.';\n",
              "          element.innerHTML = '';\n",
              "          dataTable['output_type'] = 'display_data';\n",
              "          await google.colab.output.renderOutput(dataTable, element);\n",
              "          const docLink = document.createElement('div');\n",
              "          docLink.innerHTML = docLinkHtml;\n",
              "          element.appendChild(docLink);\n",
              "        }\n",
              "      </script>\n",
              "    </div>\n",
              "  </div>\n",
              "  "
            ]
          },
          "metadata": {},
          "execution_count": 15
        }
      ]
    },
    {
      "cell_type": "markdown",
      "source": [
        "Here are some of the important observations of the above-grouped data:\n",
        "\n",
        "\n",
        "*   Prices are almost same in the months which are quarter end as compared to that of\n",
        "the non-quarter end months.\n",
        "*   The volume of trades is very lower in the months which are quarter end.\n",
        "\n",
        "\n",
        "\n"
      ],
      "metadata": {
        "id": "UpcLa-MjUAvA"
      }
    },
    {
      "cell_type": "code",
      "source": [
        "dataset['open-close']  = dataset['Open'] - dataset['Close']\n",
        "dataset['low-high']  = dataset['Low'] - dataset['High']\n",
        "dataset['target'] = np.where(dataset['Close'].shift(-1) > dataset['Close'], 1, 0)"
      ],
      "metadata": {
        "id": "j44Fy8h2UwCp"
      },
      "execution_count": null,
      "outputs": []
    },
    {
      "cell_type": "markdown",
      "source": [
        "Above we have added some more columns which will help in the training of our model. We have added the target feature which is a signal whether to buy or not we will train our model to predict this only. But before proceeding let’s check whether the target is balanced or not using a pie chart."
      ],
      "metadata": {
        "id": "zBM4yd7uU-kP"
      }
    },
    {
      "cell_type": "code",
      "source": [
        "plt.pie(dataset['target'].value_counts().values,\n",
        "        labels=[0, 1], autopct='%1.1f%%')\n",
        "plt.show()"
      ],
      "metadata": {
        "colab": {
          "base_uri": "https://localhost:8080/",
          "height": 248
        },
        "id": "GJdQ9VpRVA3o",
        "outputId": "18b62008-a3d3-48c1-e55f-60c9c02e1d18"
      },
      "execution_count": null,
      "outputs": [
        {
          "output_type": "display_data",
          "data": {
            "text/plain": [
              "<Figure size 432x288 with 1 Axes>"
            ],
            "image/png": "[encoded data removed]"
          },
          "metadata": {}
        }
      ]
    },
    {
      "cell_type": "markdown",
      "source": [
        "When we add features to our dataset we have to ensure that there are no highly correlated features as they do not help in the learning process of the algorithm."
      ],
      "metadata": {
        "id": "jyMStwy-VWZY"
      }
    },
    {
      "cell_type": "code",
      "source": [
        "plt.figure(figsize=(10, 10))\n",
        " \n",
        "# As our concern is with the highly\n",
        "# correlated features only so, we will visualize\n",
        "# our heatmap as per that criteria only.\n",
        "sb.heatmap(dataset.corr() > 0.9, annot=True, cbar=False)\n",
        "plt.show()"
      ],
      "metadata": {
        "colab": {
          "base_uri": "https://localhost:8080/",
          "height": 656
        },
        "id": "ngeGKPBBVX7v",
        "outputId": "3a536e72-7031-47f7-9301-ecc04407bb0b"
      },
      "execution_count": null,
      "outputs": [
        {
          "output_type": "display_data",
          "data": {
            "text/plain": [
              "<Figure size 720x720 with 1 Axes>"
            ],
            "image/png": "[encoded data removed]"
          },
          "metadata": {
            "needs_background": "light"
          }
        }
      ]
    },
    {
      "cell_type": "markdown",
      "source": [
        "From the above heatmap, we can say that there is a high correlation between OHLC that is pretty obvious, and the added features are not highly correlated (except 'year') with each other or previously provided features which means that we are good to go and build our model."
      ],
      "metadata": {
        "id": "vt9dWIR4VrIZ"
      }
    },
    {
      "cell_type": "code",
      "source": [
        "#moving average (100 days)\n",
        "ma100=dataset.Close.rolling(100).mean()\n",
        "ma200=dataset.Close.rolling(200).mean()\n",
        "#ma100"
      ],
      "metadata": {
        "id": "t7ftEWzv6Sac"
      },
      "execution_count": null,
      "outputs": []
    },
    {
      "cell_type": "code",
      "source": [
        "plt.figure(figsize=(12,6))\n",
        "plt.plot(dataset.Date,dataset.Close)\n",
        "plt.plot(dataset.Date,ma100,'r',label='MA100')\n",
        "plt.plot(dataset.Date,ma200,'g',label='MA200')\n",
        "plt.legend()\n",
        "plt.show()"
      ],
      "metadata": {
        "colab": {
          "base_uri": "https://localhost:8080/",
          "height": 374
        },
        "id": "8e5QNpen6Xkw",
        "outputId": "dbddcbea-d487-402a-d7c6-803d4db18205"
      },
      "execution_count": null,
      "outputs": [
        {
          "output_type": "display_data",
          "data": {
            "text/plain": [
              "<Figure size 864x432 with 1 Axes>"
            ],
            "image/png": "[encoded data removed]"
          },
          "metadata": {
            "needs_background": "light"
          }
        }
      ]
    },
    {
      "cell_type": "code",
      "source": [
        "from sklearn.preprocessing import MinMaxScaler, StandardScaler\n",
        "scaler=MinMaxScaler(feature_range=(0,1))"
      ],
      "metadata": {
        "id": "q_Pdpf793bEb"
      },
      "execution_count": 7,
      "outputs": []
    },
    {
      "cell_type": "code",
      "source": [
        "train_data=pd.DataFrame(dataset['Close'][0:int(len(dataset)*.70)])\n",
        "test_data=pd.DataFrame(dataset['Close'][int(len(dataset)*.70):int(len(dataset))])\n",
        "print(train_data.shape,test_data.shape)"
      ],
      "metadata": {
        "colab": {
          "base_uri": "https://localhost:8080/"
        },
        "id": "ly4BBPe3H8_U",
        "outputId": "1d2a01c0-0d4e-425f-941b-b11ec458a47e"
      },
      "execution_count": 8,
      "outputs": [
        {
          "output_type": "stream",
          "name": "stdout",
          "text": [
            "(2310, 1) (990, 1)\n"
          ]
        }
      ]
    },
    {
      "cell_type": "code",
      "source": [
        "test_data"
      ],
      "metadata": {
        "colab": {
          "base_uri": "https://localhost:8080/",
          "height": 424
        },
        "id": "-nXZLYJxE_UB",
        "outputId": "aee1aa8f-4f96-480c-86da-a35e0b09a9b4"
      },
      "execution_count": 27,
      "outputs": [
        {
          "output_type": "execute_result",
          "data": {
            "text/plain": [
              "          Close\n",
              "2310  51.919998\n",
              "2311  52.150002\n",
              "2312  52.590000\n",
              "2313  52.740002\n",
              "2314  53.200001\n",
              "...         ...\n",
              "3295  47.570000\n",
              "3296  47.840000\n",
              "3297  46.959999\n",
              "3298  46.730000\n",
              "3299  47.259998\n",
              "\n",
              "[990 rows x 1 columns]"
            ],
            "text/html": [
              "\n",
              "  <div id=\"df-fe683bb1-1d5d-40e8-9e9a-958e5079a450\">\n",
              "    <div class=\"colab-df-container\">\n",
              "      <div>\n",
              "<style scoped>\n",
              "    .dataframe tbody tr th:only-of-type {\n",
              "        vertical-align: middle;\n",
              "    }\n",
              "\n",
              "    .dataframe tbody tr th {\n",
              "        vertical-align: top;\n",
              "    }\n",
              "\n",
              "    .dataframe thead th {\n",
              "        text-align: right;\n",
              "    }\n",
              "</style>\n",
              "<table border=\"1\" class=\"dataframe\">\n",
              "  <thead>\n",
              "    <tr style=\"text-align: right;\">\n",
              "      <th></th>\n",
              "      <th>Close</th>\n",
              "    </tr>\n",
              "  </thead>\n",
              "  <tbody>\n",
              "    <tr>\n",
              "      <th>2310</th>\n",
              "      <td>51.919998</td>\n",
              "    </tr>\n",
              "    <tr>\n",
              "      <th>2311</th>\n",
              "      <td>52.150002</td>\n",
              "    </tr>\n",
              "    <tr>\n",
              "      <th>2312</th>\n",
              "      <td>52.590000</td>\n",
              "    </tr>\n",
              "    <tr>\n",
              "      <th>2313</th>\n",
              "      <td>52.740002</td>\n",
              "    </tr>\n",
              "    <tr>\n",
              "      <th>2314</th>\n",
              "      <td>53.200001</td>\n",
              "    </tr>\n",
              "    <tr>\n",
              "      <th>...</th>\n",
              "      <td>...</td>\n",
              "    </tr>\n",
              "    <tr>\n",
              "      <th>3295</th>\n",
              "      <td>47.570000</td>\n",
              "    </tr>\n",
              "    <tr>\n",
              "      <th>3296</th>\n",
              "      <td>47.840000</td>\n",
              "    </tr>\n",
              "    <tr>\n",
              "      <th>3297</th>\n",
              "      <td>46.959999</td>\n",
              "    </tr>\n",
              "    <tr>\n",
              "      <th>3298</th>\n",
              "      <td>46.730000</td>\n",
              "    </tr>\n",
              "    <tr>\n",
              "      <th>3299</th>\n",
              "      <td>47.259998</td>\n",
              "    </tr>\n",
              "  </tbody>\n",
              "</table>\n",
              "<p>990 rows × 1 columns</p>\n",
              "</div>\n",
              "      <button class=\"colab-df-convert\" onclick=\"convertToInteractive('df-fe683bb1-1d5d-40e8-9e9a-958e5079a450')\"\n",
              "              title=\"Convert this dataframe to an interactive table.\"\n",
              "              style=\"display:none;\">\n",
              "        \n",
              "  <svg xmlns=\"http://www.w3.org/2000/svg\" height=\"24px\"viewBox=\"0 0 24 24\"\n",
              "       width=\"24px\">\n",
              "    <path d=\"M0 0h24v24H0V0z\" fill=\"none\"/>\n",
              "    <path d=\"M18.56 5.44l.94 2.06.94-2.06 2.06-.94-2.06-.94-.94-2.06-.94 2.06-2.06.94zm-11 1L8.5 8.5l.94-2.06 2.06-.94-2.06-.94L8.5 2.5l-.94 2.06-2.06.94zm10 10l.94 2.06.94-2.06 2.06-.94-2.06-.94-.94-2.06-.94 2.06-2.06.94z\"/><path d=\"M17.41 7.96l-1.37-1.37c-.4-.4-.92-.59-1.43-.59-.52 0-1.04.2-1.43.59L10.3 9.45l-7.72 7.72c-.78.78-.78 2.05 0 2.83L4 21.41c.39.39.9.59 1.41.59.51 0 1.02-.2 1.41-.59l7.78-7.78 2.81-2.81c.8-.78.8-2.07 0-2.86zM5.41 20L4 18.59l7.72-7.72 1.47 1.35L5.41 20z\"/>\n",
              "  </svg>\n",
              "      </button>\n",
              "      \n",
              "  <style>\n",
              "    .colab-df-container {\n",
              "      display:flex;\n",
              "      flex-wrap:wrap;\n",
              "      gap: 12px;\n",
              "    }\n",
              "\n",
              "    .colab-df-convert {\n",
              "      background-color: #E8F0FE;\n",
              "      border: none;\n",
              "      border-radius: 50%;\n",
              "      cursor: pointer;\n",
              "      display: none;\n",
              "      fill: #1967D2;\n",
              "      height: 32px;\n",
              "      padding: 0 0 0 0;\n",
              "      width: 32px;\n",
              "    }\n",
              "\n",
              "    .colab-df-convert:hover {\n",
              "      background-color: #E2EBFA;\n",
              "      box-shadow: 0px 1px 2px rgba(60, 64, 67, 0.3), 0px 1px 3px 1px rgba(60, 64, 67, 0.15);\n",
              "      fill: #174EA6;\n",
              "    }\n",
              "\n",
              "    [theme=dark] .colab-df-convert {\n",
              "      background-color: #3B4455;\n",
              "      fill: #D2E3FC;\n",
              "    }\n",
              "\n",
              "    [theme=dark] .colab-df-convert:hover {\n",
              "      background-color: #434B5C;\n",
              "      box-shadow: 0px 1px 3px 1px rgba(0, 0, 0, 0.15);\n",
              "      filter: drop-shadow(0px 1px 2px rgba(0, 0, 0, 0.3));\n",
              "      fill: #FFFFFF;\n",
              "    }\n",
              "  </style>\n",
              "\n",
              "      <script>\n",
              "        const buttonEl =\n",
              "          document.querySelector('#df-fe683bb1-1d5d-40e8-9e9a-958e5079a450 button.colab-df-convert');\n",
              "        buttonEl.style.display =\n",
              "          google.colab.kernel.accessAllowed ? 'block' : 'none';\n",
              "\n",
              "        async function convertToInteractive(key) {\n",
              "          const element = document.querySelector('#df-fe683bb1-1d5d-40e8-9e9a-958e5079a450');\n",
              "          const dataTable =\n",
              "            await google.colab.kernel.invokeFunction('convertToInteractive',\n",
              "                                                     [key], {});\n",
              "          if (!dataTable) return;\n",
              "\n",
              "          const docLinkHtml = 'Like what you see? Visit the ' +\n",
              "            '<a target=\"_blank\" href=https://colab.research.google.com/notebooks/data_table.ipynb>data table notebook</a>'\n",
              "            + ' to learn more about interactive tables.';\n",
              "          element.innerHTML = '';\n",
              "          dataTable['output_type'] = 'display_data';\n",
              "          await google.colab.output.renderOutput(dataTable, element);\n",
              "          const docLink = document.createElement('div');\n",
              "          docLink.innerHTML = docLinkHtml;\n",
              "          element.appendChild(docLink);\n",
              "        }\n",
              "      </script>\n",
              "    </div>\n",
              "  </div>\n",
              "  "
            ]
          },
          "metadata": {},
          "execution_count": 27
        }
      ]
    },
    {
      "cell_type": "code",
      "source": [
        "training_data=scaler.fit_transform(train_data)\n",
        "training_data"
      ],
      "metadata": {
        "colab": {
          "base_uri": "https://localhost:8080/"
        },
        "id": "yZF--WTrKLsN",
        "outputId": "f7020df6-4267-4aa5-952e-1c8bd594300c"
      },
      "execution_count": 9,
      "outputs": [
        {
          "output_type": "execute_result",
          "data": {
            "text/plain": [
              "array([[0.28811779],\n",
              "       [0.28522608],\n",
              "       [0.28101999],\n",
              "       ...,\n",
              "       [0.99737113],\n",
              "       [0.98738172],\n",
              "       [0.9815983 ]])"
            ]
          },
          "metadata": {},
          "execution_count": 9
        }
      ]
    },
    {
      "cell_type": "code",
      "source": [
        "training_data.shape"
      ],
      "metadata": {
        "colab": {
          "base_uri": "https://localhost:8080/"
        },
        "id": "fNmVjkYA8pEw",
        "outputId": "0f9804a1-28c9-4233-d12b-113869f51148"
      },
      "execution_count": null,
      "outputs": [
        {
          "output_type": "execute_result",
          "data": {
            "text/plain": [
              "(2310, 1)"
            ]
          },
          "metadata": {},
          "execution_count": 28
        }
      ]
    },
    {
      "cell_type": "code",
      "source": [
        "time_step=100\n",
        "x_train=[]\n",
        "y_train=[]\n",
        "\n",
        "for i in range(time_step,training_data.shape[0]):\n",
        "  x_train.append(training_data[i-time_step: i])\n",
        "  y_train.append(training_data[i, 0])"
      ],
      "metadata": {
        "id": "58PusgfpKunL"
      },
      "execution_count": 10,
      "outputs": []
    },
    {
      "cell_type": "code",
      "source": [
        "x_train, y_train =np.array(x_train), np.array(y_train)"
      ],
      "metadata": {
        "id": "ZowBKWExMEEo"
      },
      "execution_count": 11,
      "outputs": []
    },
    {
      "cell_type": "code",
      "source": [
        "x_train.shape"
      ],
      "metadata": {
        "colab": {
          "base_uri": "https://localhost:8080/"
        },
        "id": "OrbtGEogMdym",
        "outputId": "8811382b-891d-459f-abb1-cdc008a3a22f"
      },
      "execution_count": 18,
      "outputs": [
        {
          "output_type": "execute_result",
          "data": {
            "text/plain": [
              "(2210, 100, 1)"
            ]
          },
          "metadata": {},
          "execution_count": 18
        }
      ]
    },
    {
      "cell_type": "code",
      "source": [
        "from sklearn import metrics\n",
        "# Build the LSTM model\n",
        "model = Sequential()\n",
        "\n",
        "model.add(LSTM(50, activation='relu', return_sequences=True, input_shape= (x_train.shape[1], 1)))\n",
        "model.add(Dropout(0.2))\n",
        "\n",
        "model.add(Bidirectional(LSTM(60, activation='relu', return_sequences=True)))\n",
        "model.add(Dropout(0.2))\n",
        "\n",
        "model.add(Bidirectional(GRU(80, activation='relu', return_sequences=True)))\n",
        "model.add(Dropout(0.2))\n",
        "\n",
        "model.add(LSTM(120, activation='relu'))\n",
        "model.add(Dropout(0.2))\n",
        "\n",
        "model.add(Dense(100,activation='relu'))\n",
        "model.add(Dense(1))\n",
        "model.summary()"
      ],
      "metadata": {
        "id": "7e2-tAXvCXmp",
        "colab": {
          "base_uri": "https://localhost:8080/"
        },
        "outputId": "7e7a75fb-5f5f-4b88-daee-f7ae588ecb32"
      },
      "execution_count": 12,
      "outputs": [
        {
          "output_type": "stream",
          "name": "stdout",
          "text": [
            "Model: \"sequential\"\n",
            "_________________________________________________________________\n",
            " Layer (type)                Output Shape              Param #   \n",
            "=================================================================\n",
            " lstm (LSTM)                 (None, 100, 50)           10400     \n",
            "                                                                 \n",
            " dropout (Dropout)           (None, 100, 50)           0         \n",
            "                                                                 \n",
            " bidirectional (Bidirectiona  (None, 100, 120)         53280     \n",
            " l)                                                              \n",
            "                                                                 \n",
            " dropout_1 (Dropout)         (None, 100, 120)          0         \n",
            "                                                                 \n",
            " bidirectional_1 (Bidirectio  (None, 100, 160)         96960     \n",
            " nal)                                                            \n",
            "                                                                 \n",
            " dropout_2 (Dropout)         (None, 100, 160)          0         \n",
            "                                                                 \n",
            " lstm_2 (LSTM)               (None, 120)               134880    \n",
            "                                                                 \n",
            " dropout_3 (Dropout)         (None, 120)               0         \n",
            "                                                                 \n",
            " dense (Dense)               (None, 100)               12100     \n",
            "                                                                 \n",
            " dense_1 (Dense)             (None, 1)                 101       \n",
            "                                                                 \n",
            "=================================================================\n",
            "Total params: 307,721\n",
            "Trainable params: 307,721\n",
            "Non-trainable params: 0\n",
            "_________________________________________________________________\n"
          ]
        }
      ]
    },
    {
      "cell_type": "code",
      "source": [
        "# Compile the model\n",
        "model.compile(optimizer='adam', loss='mean_squared_error')\n",
        "\n",
        "# Train the model\n",
        "checkpointer = ModelCheckpoint(filepath=\"model.h5\", verbose=1, save_best_only=True, monitor='loss',mode='min')\n",
        "model.fit(x_train, y_train, batch_size=64, epochs=50)"
      ],
      "metadata": {
        "id": "eMwuw6jmDAEX",
        "colab": {
          "base_uri": "https://localhost:8080/"
        },
        "outputId": "146731e3-280e-4f83-b297-80b25088a36e"
      },
      "execution_count": 13,
      "outputs": [
        {
          "output_type": "stream",
          "name": "stdout",
          "text": [
            "Epoch 1/50\n",
            "35/35 [==============================] - 39s 781ms/step - loss: 0.0390\n",
            "Epoch 2/50\n",
            "35/35 [==============================] - 30s 848ms/step - loss: 0.0030\n",
            "Epoch 3/50\n",
            "35/35 [==============================] - 31s 875ms/step - loss: 0.0021\n",
            "Epoch 4/50\n",
            "35/35 [==============================] - 30s 858ms/step - loss: 0.0023\n",
            "Epoch 5/50\n",
            "35/35 [==============================] - 28s 810ms/step - loss: 0.0017\n",
            "Epoch 6/50\n",
            "35/35 [==============================] - 28s 793ms/step - loss: 0.0016\n",
            "Epoch 7/50\n",
            "35/35 [==============================] - 28s 795ms/step - loss: 0.0016\n",
            "Epoch 8/50\n",
            "35/35 [==============================] - 28s 805ms/step - loss: 0.0014\n",
            "Epoch 9/50\n",
            "35/35 [==============================] - 32s 884ms/step - loss: 0.0015\n",
            "Epoch 10/50\n",
            "35/35 [==============================] - 27s 782ms/step - loss: 0.0014\n",
            "Epoch 11/50\n",
            "35/35 [==============================] - 28s 805ms/step - loss: 0.0012\n",
            "Epoch 12/50\n",
            "35/35 [==============================] - 28s 805ms/step - loss: 0.0013\n",
            "Epoch 13/50\n",
            "35/35 [==============================] - 28s 803ms/step - loss: 0.0011\n",
            "Epoch 14/50\n",
            "35/35 [==============================] - 29s 830ms/step - loss: 0.0011\n",
            "Epoch 15/50\n",
            "35/35 [==============================] - 29s 805ms/step - loss: 0.0010\n",
            "Epoch 16/50\n",
            "35/35 [==============================] - 28s 807ms/step - loss: 9.6141e-04\n",
            "Epoch 17/50\n",
            "35/35 [==============================] - 31s 894ms/step - loss: 0.0011\n",
            "Epoch 18/50\n",
            "35/35 [==============================] - 28s 809ms/step - loss: 9.7920e-04\n",
            "Epoch 19/50\n",
            "35/35 [==============================] - 28s 802ms/step - loss: 9.0077e-04\n",
            "Epoch 20/50\n",
            "35/35 [==============================] - 31s 894ms/step - loss: 9.4497e-04\n",
            "Epoch 21/50\n",
            "35/35 [==============================] - 28s 804ms/step - loss: 9.4906e-04\n",
            "Epoch 22/50\n",
            "35/35 [==============================] - 28s 810ms/step - loss: 9.7383e-04\n",
            "Epoch 23/50\n",
            "35/35 [==============================] - 28s 796ms/step - loss: 8.4794e-04\n",
            "Epoch 24/50\n",
            "35/35 [==============================] - 28s 803ms/step - loss: 7.8328e-04\n",
            "Epoch 25/50\n",
            "35/35 [==============================] - 28s 799ms/step - loss: 7.3221e-04\n",
            "Epoch 26/50\n",
            "35/35 [==============================] - 29s 830ms/step - loss: 8.3019e-04\n",
            "Epoch 27/50\n",
            "35/35 [==============================] - 28s 798ms/step - loss: 7.7156e-04\n",
            "Epoch 28/50\n",
            "35/35 [==============================] - 28s 794ms/step - loss: 6.6753e-04\n",
            "Epoch 29/50\n",
            "35/35 [==============================] - 28s 794ms/step - loss: 7.0838e-04\n",
            "Epoch 30/50\n",
            "35/35 [==============================] - 27s 784ms/step - loss: 6.5059e-04\n",
            "Epoch 31/50\n",
            "35/35 [==============================] - 29s 828ms/step - loss: 6.4525e-04\n",
            "Epoch 32/50\n",
            "35/35 [==============================] - 28s 793ms/step - loss: 8.9680e-04\n",
            "Epoch 33/50\n",
            "35/35 [==============================] - 29s 813ms/step - loss: 7.1463e-04\n",
            "Epoch 34/50\n",
            "35/35 [==============================] - 29s 798ms/step - loss: 6.4060e-04\n",
            "Epoch 35/50\n",
            "35/35 [==============================] - 27s 781ms/step - loss: 6.5752e-04\n",
            "Epoch 36/50\n",
            "35/35 [==============================] - 28s 792ms/step - loss: 7.3242e-04\n",
            "Epoch 37/50\n",
            "35/35 [==============================] - 28s 789ms/step - loss: 6.1594e-04\n",
            "Epoch 38/50\n",
            "35/35 [==============================] - 30s 866ms/step - loss: 6.5318e-04\n",
            "Epoch 39/50\n",
            "35/35 [==============================] - 28s 791ms/step - loss: 6.5328e-04\n",
            "Epoch 40/50\n",
            "35/35 [==============================] - 27s 788ms/step - loss: 6.4919e-04\n",
            "Epoch 41/50\n",
            "35/35 [==============================] - 28s 806ms/step - loss: 5.5367e-04\n",
            "Epoch 42/50\n",
            "35/35 [==============================] - 28s 793ms/step - loss: 5.3841e-04\n",
            "Epoch 43/50\n",
            "35/35 [==============================] - 30s 840ms/step - loss: 6.2313e-04\n",
            "Epoch 44/50\n",
            "35/35 [==============================] - 28s 801ms/step - loss: 5.5574e-04\n",
            "Epoch 45/50\n",
            "35/35 [==============================] - 28s 788ms/step - loss: 5.5969e-04\n",
            "Epoch 46/50\n",
            "35/35 [==============================] - 28s 797ms/step - loss: 5.8684e-04\n",
            "Epoch 47/50\n",
            "35/35 [==============================] - 28s 796ms/step - loss: 5.2095e-04\n",
            "Epoch 48/50\n",
            "35/35 [==============================] - 28s 798ms/step - loss: 5.6033e-04\n",
            "Epoch 49/50\n",
            "35/35 [==============================] - 28s 808ms/step - loss: 5.5287e-04\n",
            "Epoch 50/50\n",
            "35/35 [==============================] - 29s 804ms/step - loss: 5.5155e-04\n"
          ]
        },
        {
          "output_type": "execute_result",
          "data": {
            "text/plain": [
              "<keras.callbacks.History at 0x7f77f9fea5e0>"
            ]
          },
          "metadata": {},
          "execution_count": 13
        }
      ]
    },
    {
      "cell_type": "code",
      "source": [
        "model.save('model.h5')"
      ],
      "metadata": {
        "id": "1wgFD7R_Re9t"
      },
      "execution_count": 14,
      "outputs": []
    },
    {
      "cell_type": "code",
      "source": [
        "past_time_index=train_data.tail(time_step)\n",
        "final_test_data=past_time_index.append(test_data,ignore_index=True)"
      ],
      "metadata": {
        "id": "--nAoNigRjFj"
      },
      "execution_count": 15,
      "outputs": []
    },
    {
      "cell_type": "code",
      "source": [
        "final_test_data.shape"
      ],
      "metadata": {
        "id": "khdogISlWSrM",
        "colab": {
          "base_uri": "https://localhost:8080/"
        },
        "outputId": "62a425b1-623f-4182-97ef-92796bb57a90"
      },
      "execution_count": 26,
      "outputs": [
        {
          "output_type": "execute_result",
          "data": {
            "text/plain": [
              "(1090, 1)"
            ]
          },
          "metadata": {},
          "execution_count": 26
        }
      ]
    },
    {
      "cell_type": "code",
      "source": [
        "final_testing_data=scaler.fit_transform(final_test_data)"
      ],
      "metadata": {
        "id": "_4ROqOUmTro2"
      },
      "execution_count": 16,
      "outputs": []
    },
    {
      "cell_type": "code",
      "source": [
        "x_test=[]\n",
        "y_test=[]\n",
        "\n",
        "for i in range(time_step,final_testing_data.shape[0]):\n",
        "  x_test.append(final_testing_data[i-time_step: i])\n",
        "  y_test.append(final_testing_data[i, 0])"
      ],
      "metadata": {
        "id": "RH_zZjchWjqT"
      },
      "execution_count": 17,
      "outputs": []
    },
    {
      "cell_type": "code",
      "source": [
        "x_test, y_test= np.array(x_test), np.array(y_test)\n",
        "print(x_test.shape, y_test.shape)"
      ],
      "metadata": {
        "colab": {
          "base_uri": "https://localhost:8080/"
        },
        "id": "H3-G5bDaXFg8",
        "outputId": "e652ebf2-774c-470b-f9aa-9ac7d086321b"
      },
      "execution_count": 19,
      "outputs": [
        {
          "output_type": "stream",
          "name": "stdout",
          "text": [
            "(990, 100, 1) (990,)\n"
          ]
        }
      ]
    },
    {
      "cell_type": "code",
      "source": [
        "y_pred=model.predict(x_test)"
      ],
      "metadata": {
        "colab": {
          "base_uri": "https://localhost:8080/"
        },
        "id": "Wog5Cd4mYhed",
        "outputId": "3a0abfec-06fa-4812-b364-eceee7cd8cf5"
      },
      "execution_count": 20,
      "outputs": [
        {
          "output_type": "stream",
          "name": "stdout",
          "text": [
            "31/31 [==============================] - 7s 184ms/step\n"
          ]
        }
      ]
    },
    {
      "cell_type": "code",
      "source": [
        "scale_factor=1/scaler.scale_\n",
        "y_pred1=y_pred * scale_factor\n",
        "y_test1=y_test * scale_factor"
      ],
      "metadata": {
        "id": "KRtxNniceEBq"
      },
      "execution_count": 23,
      "outputs": []
    },
    {
      "cell_type": "code",
      "source": [
        "plt.figure(figsize=(12,6))\n",
        "plt.plot(y_test1, 'g', label ='Original Price')\n",
        "plt.plot(y_pred1,'blue', label='Predicted Price')\n",
        "plt.xlabel('Time')\n",
        "plt.ylabel('Price')\n",
        "plt.legend()\n",
        "plt.show()"
      ],
      "metadata": {
        "id": "4J_MlvgFKprK",
        "colab": {
          "base_uri": "https://localhost:8080/",
          "height": 388
        },
        "outputId": "0bd57d65-67f3-42c1-ecd4-f3f53e3de103"
      },
      "execution_count": 24,
      "outputs": [
        {
          "output_type": "display_data",
          "data": {
            "text/plain": [
              "<Figure size 864x432 with 1 Axes>"
            ],
            "image/png": "[encoded data removed]"
          },
          "metadata": {
            "needs_background": "light"
          }
        }
      ]
    },
    {
      "cell_type": "code",
      "source": [
        "plt.figure(figsize=(12,6))\n",
        "plt.plot(y_test, 'g', label ='Original Price')\n",
        "plt.plot(y_pred,'blue', label='Predicted Price')\n",
        "plt.xlabel('Time')\n",
        "plt.ylabel('Price')\n",
        "plt.legend()\n",
        "plt.show()"
      ],
      "metadata": {
        "colab": {
          "base_uri": "https://localhost:8080/",
          "height": 388
        },
        "id": "KaPHFthteEHT",
        "outputId": "2872c958-b2d0-44bd-9191-3be51464e771"
      },
      "execution_count": 22,
      "outputs": [
        {
          "output_type": "display_data",
          "data": {
            "text/plain": [
              "<Figure size 864x432 with 1 Axes>"
            ],
            "image/png": "[encoded data removed]"
          },
          "metadata": {
            "needs_background": "light"
          }
        }
      ]
    },
    {
      "cell_type": "code",
      "source": [
        "from sklearn.metrics import mean_squared_error, mean_absolute_error, r2_score\n",
        "from math import log\n",
        "\n",
        "\n",
        "r2 = r2_score(y_test,y_pred)\n",
        "mse = mean_squared_error(y_test,y_pred)\n",
        "mae = mean_absolute_error(y_test,y_pred)\n",
        "rmse = np.sqrt(mse)\n",
        "\n",
        "print(\"MSE :\", mse)\n",
        "print(\"MAE :\" ,mae)\n",
        "print(\"RMSE :\" ,rmse)\n",
        "print(\"R2_score :\",r2)"
      ],
      "metadata": {
        "colab": {
          "base_uri": "https://localhost:8080/"
        },
        "id": "ZIniQXA9M3iQ",
        "outputId": "fe43b993-f6dc-4320-8c36-79712b1cbbd3"
      },
      "execution_count": 25,
      "outputs": [
        {
          "output_type": "stream",
          "name": "stdout",
          "text": [
            "MSE : 0.009738070621407118\n",
            "MAE : 0.08363966788664885\n",
            "RMSE : 0.09868166304540635\n",
            "R2_score : 0.7380953845354769\n"
          ]
        }
      ]
    },
    {
      "cell_type": "code",
      "source": [
        "### Plotting \n",
        "# shift train predictions for plotting\n",
        "look_back=30\n",
        "trainPredictPlot = np.empty_like(df)\n",
        "trainPredictPlot[:, :] = np.nan\n",
        "trainPredictPlot[look_back:len(train_predict)+look_back, :] = train_predict\n",
        "# shift test predictions for plotting\n",
        "testPredictPlot = np.empty_like(df)\n",
        "testPredictPlot[:, :] = np.nan\n",
        "testPredictPlot[len(train_predict)+(look_back*2)+1:len(df)-1, :] = test_predict\n",
        "# plot baseline and predictions\n",
        "plt.plot(scaler.inverse_transform(df))\n",
        "plt.plot(trainPredictPlot)\n",
        "plt.plot(testPredictPlot)\n",
        "plt.show()"
      ],
      "metadata": {
        "colab": {
          "base_uri": "https://localhost:8080/",
          "height": 265
        },
        "id": "tluvwmIyM-EN",
        "outputId": "1ac9a033-7ba5-4450-fe53-ad396edbc1f3"
      },
      "execution_count": null,
      "outputs": [
        {
          "output_type": "display_data",
          "data": {
            "text/plain": [
              "<Figure size 432x288 with 1 Axes>"
            ],
            "image/png": "[encoded data removed]"
          },
          "metadata": {
            "needs_background": "light"
          }
        }
      ]
    },
    {
      "cell_type": "code",
      "source": [
        "test_data['prediction']=scaler.inverse_transform(y_pred)\n",
        "test_data.head(100)"
      ],
      "metadata": {
        "id": "rThVb8GfNyPN",
        "colab": {
          "base_uri": "https://localhost:8080/",
          "height": 424
        },
        "outputId": "c8403879-9bfe-4b4b-8a5d-17f6212c6701"
      },
      "execution_count": 32,
      "outputs": [
        {
          "output_type": "execute_result",
          "data": {
            "text/plain": [
              "          Close  prediction\n",
              "2310  51.919998   48.041485\n",
              "2311  52.150002   48.143032\n",
              "2312  52.590000   48.360924\n",
              "2313  52.740002   48.658653\n",
              "2314  53.200001   48.987228\n",
              "...         ...         ...\n",
              "2405  56.619999   52.663425\n",
              "2406  56.529999   52.450256\n",
              "2407  56.930000   52.209686\n",
              "2408  56.470001   52.153156\n",
              "2409  55.400002   52.095501\n",
              "\n",
              "[100 rows x 2 columns]"
            ],
            "text/html": [
              "\n",
              "  <div id=\"df-095110be-01b2-4b20-aff5-795bb4089c2b\">\n",
              "    <div class=\"colab-df-container\">\n",
              "      <div>\n",
              "<style scoped>\n",
              "    .dataframe tbody tr th:only-of-type {\n",
              "        vertical-align: middle;\n",
              "    }\n",
              "\n",
              "    .dataframe tbody tr th {\n",
              "        vertical-align: top;\n",
              "    }\n",
              "\n",
              "    .dataframe thead th {\n",
              "        text-align: right;\n",
              "    }\n",
              "</style>\n",
              "<table border=\"1\" class=\"dataframe\">\n",
              "  <thead>\n",
              "    <tr style=\"text-align: right;\">\n",
              "      <th></th>\n",
              "      <th>Close</th>\n",
              "      <th>prediction</th>\n",
              "    </tr>\n",
              "  </thead>\n",
              "  <tbody>\n",
              "    <tr>\n",
              "      <th>2310</th>\n",
              "      <td>51.919998</td>\n",
              "      <td>48.041485</td>\n",
              "    </tr>\n",
              "    <tr>\n",
              "      <th>2311</th>\n",
              "      <td>52.150002</td>\n",
              "      <td>48.143032</td>\n",
              "    </tr>\n",
              "    <tr>\n",
              "      <th>2312</th>\n",
              "      <td>52.590000</td>\n",
              "      <td>48.360924</td>\n",
              "    </tr>\n",
              "    <tr>\n",
              "      <th>2313</th>\n",
              "      <td>52.740002</td>\n",
              "      <td>48.658653</td>\n",
              "    </tr>\n",
              "    <tr>\n",
              "      <th>2314</th>\n",
              "      <td>53.200001</td>\n",
              "      <td>48.987228</td>\n",
              "    </tr>\n",
              "    <tr>\n",
              "      <th>...</th>\n",
              "      <td>...</td>\n",
              "      <td>...</td>\n",
              "    </tr>\n",
              "    <tr>\n",
              "      <th>2405</th>\n",
              "      <td>56.619999</td>\n",
              "      <td>52.663425</td>\n",
              "    </tr>\n",
              "    <tr>\n",
              "      <th>2406</th>\n",
              "      <td>56.529999</td>\n",
              "      <td>52.450256</td>\n",
              "    </tr>\n",
              "    <tr>\n",
              "      <th>2407</th>\n",
              "      <td>56.930000</td>\n",
              "      <td>52.209686</td>\n",
              "    </tr>\n",
              "    <tr>\n",
              "      <th>2408</th>\n",
              "      <td>56.470001</td>\n",
              "      <td>52.153156</td>\n",
              "    </tr>\n",
              "    <tr>\n",
              "      <th>2409</th>\n",
              "      <td>55.400002</td>\n",
              "      <td>52.095501</td>\n",
              "    </tr>\n",
              "  </tbody>\n",
              "</table>\n",
              "<p>100 rows × 2 columns</p>\n",
              "</div>\n",
              "      <button class=\"colab-df-convert\" onclick=\"convertToInteractive('df-095110be-01b2-4b20-aff5-795bb4089c2b')\"\n",
              "              title=\"Convert this dataframe to an interactive table.\"\n",
              "              style=\"display:none;\">\n",
              "        \n",
              "  <svg xmlns=\"http://www.w3.org/2000/svg\" height=\"24px\"viewBox=\"0 0 24 24\"\n",
              "       width=\"24px\">\n",
              "    <path d=\"M0 0h24v24H0V0z\" fill=\"none\"/>\n",
              "    <path d=\"M18.56 5.44l.94 2.06.94-2.06 2.06-.94-2.06-.94-.94-2.06-.94 2.06-2.06.94zm-11 1L8.5 8.5l.94-2.06 2.06-.94-2.06-.94L8.5 2.5l-.94 2.06-2.06.94zm10 10l.94 2.06.94-2.06 2.06-.94-2.06-.94-.94-2.06-.94 2.06-2.06.94z\"/><path d=\"M17.41 7.96l-1.37-1.37c-.4-.4-.92-.59-1.43-.59-.52 0-1.04.2-1.43.59L10.3 9.45l-7.72 7.72c-.78.78-.78 2.05 0 2.83L4 21.41c.39.39.9.59 1.41.59.51 0 1.02-.2 1.41-.59l7.78-7.78 2.81-2.81c.8-.78.8-2.07 0-2.86zM5.41 20L4 18.59l7.72-7.72 1.47 1.35L5.41 20z\"/>\n",
              "  </svg>\n",
              "      </button>\n",
              "      \n",
              "  <style>\n",
              "    .colab-df-container {\n",
              "      display:flex;\n",
              "      flex-wrap:wrap;\n",
              "      gap: 12px;\n",
              "    }\n",
              "\n",
              "    .colab-df-convert {\n",
              "      background-color: #E8F0FE;\n",
              "      border: none;\n",
              "      border-radius: 50%;\n",
              "      cursor: pointer;\n",
              "      display: none;\n",
              "      fill: #1967D2;\n",
              "      height: 32px;\n",
              "      padding: 0 0 0 0;\n",
              "      width: 32px;\n",
              "    }\n",
              "\n",
              "    .colab-df-convert:hover {\n",
              "      background-color: #E2EBFA;\n",
              "      box-shadow: 0px 1px 2px rgba(60, 64, 67, 0.3), 0px 1px 3px 1px rgba(60, 64, 67, 0.15);\n",
              "      fill: #174EA6;\n",
              "    }\n",
              "\n",
              "    [theme=dark] .colab-df-convert {\n",
              "      background-color: #3B4455;\n",
              "      fill: #D2E3FC;\n",
              "    }\n",
              "\n",
              "    [theme=dark] .colab-df-convert:hover {\n",
              "      background-color: #434B5C;\n",
              "      box-shadow: 0px 1px 3px 1px rgba(0, 0, 0, 0.15);\n",
              "      filter: drop-shadow(0px 1px 2px rgba(0, 0, 0, 0.3));\n",
              "      fill: #FFFFFF;\n",
              "    }\n",
              "  </style>\n",
              "\n",
              "      <script>\n",
              "        const buttonEl =\n",
              "          document.querySelector('#df-095110be-01b2-4b20-aff5-795bb4089c2b button.colab-df-convert');\n",
              "        buttonEl.style.display =\n",
              "          google.colab.kernel.accessAllowed ? 'block' : 'none';\n",
              "\n",
              "        async function convertToInteractive(key) {\n",
              "          const element = document.querySelector('#df-095110be-01b2-4b20-aff5-795bb4089c2b');\n",
              "          const dataTable =\n",
              "            await google.colab.kernel.invokeFunction('convertToInteractive',\n",
              "                                                     [key], {});\n",
              "          if (!dataTable) return;\n",
              "\n",
              "          const docLinkHtml = 'Like what you see? Visit the ' +\n",
              "            '<a target=\"_blank\" href=https://colab.research.google.com/notebooks/data_table.ipynb>data table notebook</a>'\n",
              "            + ' to learn more about interactive tables.';\n",
              "          element.innerHTML = '';\n",
              "          dataTable['output_type'] = 'display_data';\n",
              "          await google.colab.output.renderOutput(dataTable, element);\n",
              "          const docLink = document.createElement('div');\n",
              "          docLink.innerHTML = docLinkHtml;\n",
              "          element.appendChild(docLink);\n",
              "        }\n",
              "      </script>\n",
              "    </div>\n",
              "  </div>\n",
              "  "
            ]
          },
          "metadata": {},
          "execution_count": 32
        }
      ]
    },
    {
      "cell_type": "code",
      "source": [
        "final_test_data"
      ],
      "metadata": {
        "colab": {
          "base_uri": "https://localhost:8080/",
          "height": 424
        },
        "id": "iA3YC13-F-p2",
        "outputId": "69bf4304-2057-4df1-e8b7-c1d33ad74bb1"
      },
      "execution_count": 33,
      "outputs": [
        {
          "output_type": "execute_result",
          "data": {
            "text/plain": [
              "          Close\n",
              "0     45.709999\n",
              "1     44.669998\n",
              "2     45.820000\n",
              "3     45.939999\n",
              "4     45.459999\n",
              "...         ...\n",
              "1085  47.570000\n",
              "1086  47.840000\n",
              "1087  46.959999\n",
              "1088  46.730000\n",
              "1089  47.259998\n",
              "\n",
              "[1090 rows x 1 columns]"
            ],
            "text/html": [
              "\n",
              "  <div id=\"df-920c91d4-0df1-4a1c-90c8-636f42eba8b1\">\n",
              "    <div class=\"colab-df-container\">\n",
              "      <div>\n",
              "<style scoped>\n",
              "    .dataframe tbody tr th:only-of-type {\n",
              "        vertical-align: middle;\n",
              "    }\n",
              "\n",
              "    .dataframe tbody tr th {\n",
              "        vertical-align: top;\n",
              "    }\n",
              "\n",
              "    .dataframe thead th {\n",
              "        text-align: right;\n",
              "    }\n",
              "</style>\n",
              "<table border=\"1\" class=\"dataframe\">\n",
              "  <thead>\n",
              "    <tr style=\"text-align: right;\">\n",
              "      <th></th>\n",
              "      <th>Close</th>\n",
              "    </tr>\n",
              "  </thead>\n",
              "  <tbody>\n",
              "    <tr>\n",
              "      <th>0</th>\n",
              "      <td>45.709999</td>\n",
              "    </tr>\n",
              "    <tr>\n",
              "      <th>1</th>\n",
              "      <td>44.669998</td>\n",
              "    </tr>\n",
              "    <tr>\n",
              "      <th>2</th>\n",
              "      <td>45.820000</td>\n",
              "    </tr>\n",
              "    <tr>\n",
              "      <th>3</th>\n",
              "      <td>45.939999</td>\n",
              "    </tr>\n",
              "    <tr>\n",
              "      <th>4</th>\n",
              "      <td>45.459999</td>\n",
              "    </tr>\n",
              "    <tr>\n",
              "      <th>...</th>\n",
              "      <td>...</td>\n",
              "    </tr>\n",
              "    <tr>\n",
              "      <th>1085</th>\n",
              "      <td>47.570000</td>\n",
              "    </tr>\n",
              "    <tr>\n",
              "      <th>1086</th>\n",
              "      <td>47.840000</td>\n",
              "    </tr>\n",
              "    <tr>\n",
              "      <th>1087</th>\n",
              "      <td>46.959999</td>\n",
              "    </tr>\n",
              "    <tr>\n",
              "      <th>1088</th>\n",
              "      <td>46.730000</td>\n",
              "    </tr>\n",
              "    <tr>\n",
              "      <th>1089</th>\n",
              "      <td>47.259998</td>\n",
              "    </tr>\n",
              "  </tbody>\n",
              "</table>\n",
              "<p>1090 rows × 1 columns</p>\n",
              "</div>\n",
              "      <button class=\"colab-df-convert\" onclick=\"convertToInteractive('df-920c91d4-0df1-4a1c-90c8-636f42eba8b1')\"\n",
              "              title=\"Convert this dataframe to an interactive table.\"\n",
              "              style=\"display:none;\">\n",
              "        \n",
              "  <svg xmlns=\"http://www.w3.org/2000/svg\" height=\"24px\"viewBox=\"0 0 24 24\"\n",
              "       width=\"24px\">\n",
              "    <path d=\"M0 0h24v24H0V0z\" fill=\"none\"/>\n",
              "    <path d=\"M18.56 5.44l.94 2.06.94-2.06 2.06-.94-2.06-.94-.94-2.06-.94 2.06-2.06.94zm-11 1L8.5 8.5l.94-2.06 2.06-.94-2.06-.94L8.5 2.5l-.94 2.06-2.06.94zm10 10l.94 2.06.94-2.06 2.06-.94-2.06-.94-.94-2.06-.94 2.06-2.06.94z\"/><path d=\"M17.41 7.96l-1.37-1.37c-.4-.4-.92-.59-1.43-.59-.52 0-1.04.2-1.43.59L10.3 9.45l-7.72 7.72c-.78.78-.78 2.05 0 2.83L4 21.41c.39.39.9.59 1.41.59.51 0 1.02-.2 1.41-.59l7.78-7.78 2.81-2.81c.8-.78.8-2.07 0-2.86zM5.41 20L4 18.59l7.72-7.72 1.47 1.35L5.41 20z\"/>\n",
              "  </svg>\n",
              "      </button>\n",
              "      \n",
              "  <style>\n",
              "    .colab-df-container {\n",
              "      display:flex;\n",
              "      flex-wrap:wrap;\n",
              "      gap: 12px;\n",
              "    }\n",
              "\n",
              "    .colab-df-convert {\n",
              "      background-color: #E8F0FE;\n",
              "      border: none;\n",
              "      border-radius: 50%;\n",
              "      cursor: pointer;\n",
              "      display: none;\n",
              "      fill: #1967D2;\n",
              "      height: 32px;\n",
              "      padding: 0 0 0 0;\n",
              "      width: 32px;\n",
              "    }\n",
              "\n",
              "    .colab-df-convert:hover {\n",
              "      background-color: #E2EBFA;\n",
              "      box-shadow: 0px 1px 2px rgba(60, 64, 67, 0.3), 0px 1px 3px 1px rgba(60, 64, 67, 0.15);\n",
              "      fill: #174EA6;\n",
              "    }\n",
              "\n",
              "    [theme=dark] .colab-df-convert {\n",
              "      background-color: #3B4455;\n",
              "      fill: #D2E3FC;\n",
              "    }\n",
              "\n",
              "    [theme=dark] .colab-df-convert:hover {\n",
              "      background-color: #434B5C;\n",
              "      box-shadow: 0px 1px 3px 1px rgba(0, 0, 0, 0.15);\n",
              "      filter: drop-shadow(0px 1px 2px rgba(0, 0, 0, 0.3));\n",
              "      fill: #FFFFFF;\n",
              "    }\n",
              "  </style>\n",
              "\n",
              "      <script>\n",
              "        const buttonEl =\n",
              "          document.querySelector('#df-920c91d4-0df1-4a1c-90c8-636f42eba8b1 button.colab-df-convert');\n",
              "        buttonEl.style.display =\n",
              "          google.colab.kernel.accessAllowed ? 'block' : 'none';\n",
              "\n",
              "        async function convertToInteractive(key) {\n",
              "          const element = document.querySelector('#df-920c91d4-0df1-4a1c-90c8-636f42eba8b1');\n",
              "          const dataTable =\n",
              "            await google.colab.kernel.invokeFunction('convertToInteractive',\n",
              "                                                     [key], {});\n",
              "          if (!dataTable) return;\n",
              "\n",
              "          const docLinkHtml = 'Like what you see? Visit the ' +\n",
              "            '<a target=\"_blank\" href=https://colab.research.google.com/notebooks/data_table.ipynb>data table notebook</a>'\n",
              "            + ' to learn more about interactive tables.';\n",
              "          element.innerHTML = '';\n",
              "          dataTable['output_type'] = 'display_data';\n",
              "          await google.colab.output.renderOutput(dataTable, element);\n",
              "          const docLink = document.createElement('div');\n",
              "          docLink.innerHTML = docLinkHtml;\n",
              "          element.appendChild(docLink);\n",
              "        }\n",
              "      </script>\n",
              "    </div>\n",
              "  </div>\n",
              "  "
            ]
          },
          "metadata": {},
          "execution_count": 33
        }
      ]
    },
    {
      "cell_type": "code",
      "source": [],
      "metadata": {
        "id": "X87Z6ucxICv-"
      },
      "execution_count": null,
      "outputs": []
    }
  ]
}